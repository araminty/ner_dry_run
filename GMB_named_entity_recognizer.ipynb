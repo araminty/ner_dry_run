{
 "cells": [
  {
   "cell_type": "code",
   "execution_count": 1,
   "metadata": {},
   "outputs": [],
   "source": [
    "import os\n",
    "from tqdm.notebook import tqdm\n",
    "import spacy\n",
    "import random\n",
    "import pandas as pd\n",
    "from sklearn.model_selection import train_test_split\n",
    "from spacy.util import compounding, minibatch\n",
    "from random import Random"
   ]
  },
  {
   "cell_type": "markdown",
   "metadata": {},
   "source": [
    "For each excerpts we want data from three different files.  The .tags file has the named entity recognition tags that we are building the model to find.  The en.tok.off file has the positions of the tags given as the index of their first and last character.  The .raw file has the complete excerpts.\n",
    "\n",
    "The files have the same name besides their extensions so we can crawl the directory for any of the three to make a complete list.  Let's do .raw."
   ]
  },
  {
   "cell_type": "code",
   "execution_count": 2,
   "metadata": {},
   "outputs": [],
   "source": [
    "dirName = \"../gmb-2.2.0/data/\"\n",
    "\n",
    "listOfFiles = list()\n",
    "for (dirpath, dirnames, filenames) in os.walk(dirName):\n",
    "    for file in filenames:\n",
    "        if \".raw\" in file:\n",
    "            listOfFiles += [os.path.join(dirpath, file)]\n"
   ]
  },
  {
   "cell_type": "markdown",
   "metadata": {},
   "source": [
    "We need to reformat the NER tags.  The Groningen Meaning Bank labels each token individually in a multi-token named entity.  They need to be combined for SpaCy.  Additionally the \"O\" labels, which indicate a word isn't in any of the named entity categories, can be discarded."
   ]
  },
  {
   "cell_type": "code",
   "execution_count": 3,
   "metadata": {},
   "outputs": [
    {
     "data": {
      "application/vnd.jupyter.widget-view+json": {
       "model_id": "7aa230ec834c4b2c9d403ae71e6e9729",
       "version_major": 2,
       "version_minor": 0
      },
      "text/plain": [
       "HBox(children=(IntProgress(value=0, max=10000), HTML(value='')))"
      ]
     },
     "metadata": {},
     "output_type": "display_data"
    },
    {
     "name": "stdout",
     "output_type": "stream",
     "text": [
      "\n"
     ]
    }
   ],
   "source": [
    "STOP_WORD = \"O\"\n",
    "\n",
    "def get_consecutives(labels, offsets):\n",
    "    \"\"\"This generator takes the token labels and token offsets as two lists.\n",
    "    Consecutive identical labels are combined to match the SpaCy formatting.\n",
    "    The indexes of the found labels, as well as the labels themselves are yielded.\"\"\"\n",
    "    \n",
    "    start=end=0\n",
    "    previous=STOP_WORD\n",
    "    while labels:\n",
    "        head = labels.pop(0)\n",
    "        offset = offsets.pop(0).split()\n",
    "        \n",
    "        if head!=previous and previous!=STOP_WORD:\n",
    "            yield((int(start), int(end), previous))\n",
    "            \n",
    "        if head!=STOP_WORD:\n",
    "            end=offset[1]\n",
    "                \n",
    "        if previous!=head!=STOP_WORD:\n",
    "            start=offset[0]\n",
    "        previous=head\n",
    "        \n",
    "    if head!=STOP_WORD:\n",
    "        yield((int(start), int(end), head))\n",
    "    \n",
    "\n",
    "\"\"\"Now we iterate through the previously compiled list of files, \n",
    "opening the tags and offsets and feeding them into the generator.\"\"\"\n",
    "DATA = list()\n",
    "\n",
    "#tqdm just gives us a progress bar on the for loop\n",
    "for raw_file in tqdm(listOfFiles):\n",
    "    with open(raw_file) as raw_text_file:\n",
    "        text = raw_text_file.read().replace('\\n', ' ')\n",
    "        \n",
    "    tag_file = \"../\"+raw_file.strip(\".raw\")+\".tags\"\n",
    "    with open(tag_file) as tag_data:\n",
    "        tags_by_line = tag_data.readlines()\n",
    "        # The following checks the length so any empty lines in the file get skipped\n",
    "        ner_labels = [ line.split(\"\\t\")[3] for line in tags_by_line if len(line.split(\"\\t\"))>2 ]\n",
    "        \n",
    "        \n",
    "    offsets_file = \"../\"+raw_file.strip(\".raw\") + \".tok.off\"\n",
    "    with open(offsets_file) as offsets_file:\n",
    "        offsets = offsets_file.readlines()\n",
    "\n",
    "    DATA.append((text, list(get_consecutives(ner_labels, offsets))))\n",
    "    \n",
    "NER_LABELS = set(ner[2] for line in DATA  for ner in line[1])"
   ]
  },
  {
   "cell_type": "markdown",
   "metadata": {},
   "source": [
    "The data is loaded, let's take a look at a few lines as a sanity check and see how many of each named entity label there are."
   ]
  },
  {
   "cell_type": "code",
   "execution_count": 4,
   "metadata": {},
   "outputs": [
    {
     "data": {
      "text/html": [
       "<div>\n",
       "<style scoped>\n",
       "    .dataframe tbody tr th:only-of-type {\n",
       "        vertical-align: middle;\n",
       "    }\n",
       "\n",
       "    .dataframe tbody tr th {\n",
       "        vertical-align: top;\n",
       "    }\n",
       "\n",
       "    .dataframe thead th {\n",
       "        text-align: right;\n",
       "    }\n",
       "</style>\n",
       "<table border=\"1\" class=\"dataframe\">\n",
       "  <thead>\n",
       "    <tr style=\"text-align: right;\">\n",
       "      <th></th>\n",
       "      <th>label</th>\n",
       "      <th>ner</th>\n",
       "      <th>paragraph_index</th>\n",
       "      <th>paragraph</th>\n",
       "    </tr>\n",
       "  </thead>\n",
       "  <tbody>\n",
       "    <tr>\n",
       "      <td>0</td>\n",
       "      <td>geo-nam</td>\n",
       "      <td>London</td>\n",
       "      <td>0</td>\n",
       "      <td>Medical experts from London have published a p...</td>\n",
       "    </tr>\n",
       "    <tr>\n",
       "      <td>1</td>\n",
       "      <td>geo-nam</td>\n",
       "      <td>United States</td>\n",
       "      <td>1</td>\n",
       "      <td>The United States is calling on Bangladesh to ...</td>\n",
       "    </tr>\n",
       "    <tr>\n",
       "      <td>2</td>\n",
       "      <td>geo-nam</td>\n",
       "      <td>Bangladesh</td>\n",
       "      <td>1</td>\n",
       "      <td>The United States is calling on Bangladesh to ...</td>\n",
       "    </tr>\n",
       "    <tr>\n",
       "      <td>3</td>\n",
       "      <td>org-nam</td>\n",
       "      <td>Muslim Rohingya</td>\n",
       "      <td>1</td>\n",
       "      <td>The United States is calling on Bangladesh to ...</td>\n",
       "    </tr>\n",
       "    <tr>\n",
       "      <td>4</td>\n",
       "      <td>geo-nam</td>\n",
       "      <td>Burma</td>\n",
       "      <td>1</td>\n",
       "      <td>The United States is calling on Bangladesh to ...</td>\n",
       "    </tr>\n",
       "  </tbody>\n",
       "</table>\n",
       "</div>"
      ],
      "text/plain": [
       "     label              ner  paragraph_index  \\\n",
       "0  geo-nam           London                0   \n",
       "1  geo-nam    United States                1   \n",
       "2  geo-nam       Bangladesh                1   \n",
       "3  org-nam  Muslim Rohingya                1   \n",
       "4  geo-nam            Burma                1   \n",
       "\n",
       "                                           paragraph  \n",
       "0  Medical experts from London have published a p...  \n",
       "1  The United States is calling on Bangladesh to ...  \n",
       "2  The United States is calling on Bangladesh to ...  \n",
       "3  The United States is calling on Bangladesh to ...  \n",
       "4  The United States is calling on Bangladesh to ...  "
      ]
     },
     "metadata": {},
     "output_type": "display_data"
    },
    {
     "data": {
      "text/html": [
       "<div>\n",
       "<style scoped>\n",
       "    .dataframe tbody tr th:only-of-type {\n",
       "        vertical-align: middle;\n",
       "    }\n",
       "\n",
       "    .dataframe tbody tr th {\n",
       "        vertical-align: top;\n",
       "    }\n",
       "\n",
       "    .dataframe thead th {\n",
       "        text-align: right;\n",
       "    }\n",
       "</style>\n",
       "<table border=\"1\" class=\"dataframe\">\n",
       "  <thead>\n",
       "    <tr style=\"text-align: right;\">\n",
       "      <th></th>\n",
       "      <th>label</th>\n",
       "      <th>ner</th>\n",
       "      <th>paragraph_index</th>\n",
       "      <th>paragraph</th>\n",
       "    </tr>\n",
       "  </thead>\n",
       "  <tbody>\n",
       "    <tr>\n",
       "      <td>33052</td>\n",
       "      <td>gpe-nam</td>\n",
       "      <td>Palestinian</td>\n",
       "      <td>2049</td>\n",
       "      <td>Two top Palestinian militant leaders have been...</td>\n",
       "    </tr>\n",
       "    <tr>\n",
       "      <td>34070</td>\n",
       "      <td>geo-nam</td>\n",
       "      <td>Pakistan</td>\n",
       "      <td>2114</td>\n",
       "      <td>The United States' only mobile field hospital ...</td>\n",
       "    </tr>\n",
       "    <tr>\n",
       "      <td>54368</td>\n",
       "      <td>per-fam</td>\n",
       "      <td>Abdullah</td>\n",
       "      <td>3368</td>\n",
       "      <td>Saudi Arabia has taken a firm stance with Syri...</td>\n",
       "    </tr>\n",
       "    <tr>\n",
       "      <td>73823</td>\n",
       "      <td>tim-dow</td>\n",
       "      <td>Tuesday</td>\n",
       "      <td>4561</td>\n",
       "      <td>Belarus's Foreign Ministry has dismissed the l...</td>\n",
       "    </tr>\n",
       "    <tr>\n",
       "      <td>77455</td>\n",
       "      <td>per-nam</td>\n",
       "      <td>Kibaki</td>\n",
       "      <td>4780</td>\n",
       "      <td>Thousands of prisoners in Kenya reportedly vol...</td>\n",
       "    </tr>\n",
       "    <tr>\n",
       "      <td>79747</td>\n",
       "      <td>tim-yoc</td>\n",
       "      <td>2005</td>\n",
       "      <td>4929</td>\n",
       "      <td>Sudan's President Omar al-Bashir has announced...</td>\n",
       "    </tr>\n",
       "    <tr>\n",
       "      <td>103806</td>\n",
       "      <td>per-nam</td>\n",
       "      <td>Charm Tong</td>\n",
       "      <td>6406</td>\n",
       "      <td>President Bush met at the White House Monday w...</td>\n",
       "    </tr>\n",
       "    <tr>\n",
       "      <td>127855</td>\n",
       "      <td>tim-moy</td>\n",
       "      <td>August</td>\n",
       "      <td>7855</td>\n",
       "      <td>A Vietnamese man has died from bird flu, raisi...</td>\n",
       "    </tr>\n",
       "    <tr>\n",
       "      <td>143223</td>\n",
       "      <td>org-nam</td>\n",
       "      <td>Kempthorne</td>\n",
       "      <td>8786</td>\n",
       "      <td>U.S. authorities started a man-made flood in t...</td>\n",
       "    </tr>\n",
       "    <tr>\n",
       "      <td>154951</td>\n",
       "      <td>geo-nam</td>\n",
       "      <td>Europe</td>\n",
       "      <td>9512</td>\n",
       "      <td>People around the world are taking part in mem...</td>\n",
       "    </tr>\n",
       "  </tbody>\n",
       "</table>\n",
       "</div>"
      ],
      "text/plain": [
       "          label          ner  paragraph_index  \\\n",
       "33052   gpe-nam  Palestinian             2049   \n",
       "34070   geo-nam     Pakistan             2114   \n",
       "54368   per-fam     Abdullah             3368   \n",
       "73823   tim-dow      Tuesday             4561   \n",
       "77455   per-nam       Kibaki             4780   \n",
       "79747   tim-yoc         2005             4929   \n",
       "103806  per-nam   Charm Tong             6406   \n",
       "127855  tim-moy       August             7855   \n",
       "143223  org-nam   Kempthorne             8786   \n",
       "154951  geo-nam       Europe             9512   \n",
       "\n",
       "                                                paragraph  \n",
       "33052   Two top Palestinian militant leaders have been...  \n",
       "34070   The United States' only mobile field hospital ...  \n",
       "54368   Saudi Arabia has taken a firm stance with Syri...  \n",
       "73823   Belarus's Foreign Ministry has dismissed the l...  \n",
       "77455   Thousands of prisoners in Kenya reportedly vol...  \n",
       "79747   Sudan's President Omar al-Bashir has announced...  \n",
       "103806  President Bush met at the White House Monday w...  \n",
       "127855  A Vietnamese man has died from bird flu, raisi...  \n",
       "143223  U.S. authorities started a man-made flood in t...  \n",
       "154951  People around the world are taking part in mem...  "
      ]
     },
     "metadata": {},
     "output_type": "display_data"
    },
    {
     "data": {
      "text/plain": [
       "geo-nam    48875\n",
       "org-nam    26195\n",
       "gpe-nam    20436\n",
       "per-nam    14962\n",
       "tim-dow    11402\n",
       "tim-dat     9663\n",
       "per-tit     9163\n",
       "per-fam     8044\n",
       "tim-yoc     5290\n",
       "tim-moy     4261\n",
       "per-giv     2341\n",
       "tim-clo      726\n",
       "art-nam      501\n",
       "eve-nam      290\n",
       "nat-nam      238\n",
       "tim-nam      134\n",
       "eve-ord      107\n",
       "org-leg       59\n",
       "per-ini       55\n",
       "per-ord       38\n",
       "tim-dom       10\n",
       "art-add        1\n",
       "per-mid        1\n",
       "Name: label, dtype: int64"
      ]
     },
     "metadata": {},
     "output_type": "display_data"
    }
   ],
   "source": [
    "def DF_generator(data):\n",
    "    for i, line in enumerate(data):\n",
    "        for ner in line[1]:\n",
    "            yield ner[2], line[0][ner[0]:ner[1]], i, line[0]\n",
    "\n",
    "df = pd.DataFrame(DF_generator(DATA), columns=['label', 'ner', 'paragraph_index', 'paragraph'])\n",
    "\n",
    "display(df.head())\n",
    "display(df.sample(10).sort_index())\n",
    "display(df.label.value_counts())"
   ]
  },
  {
   "cell_type": "markdown",
   "metadata": {},
   "source": [
    "Now that we have the data loaded up, let's split it into training and testing datasets.  Also because there is a large amount of data let's stick some of it in a holdout dataset just to speed up the process.  We aren't actually using the holdout dataset in this case but it's large enough that we could test against slices of it as a final step if we were so inclined.\n",
    "\n",
    "SpaCy recommends at least 500 or so examples for a label.  Let's cut out anything with less then 5000 just to reduce the amount of training we need.  This \"trimmer\" removes the other labels from the data."
   ]
  },
  {
   "cell_type": "code",
   "execution_count": 5,
   "metadata": {},
   "outputs": [],
   "source": [
    "tallies = df.label.value_counts()\n",
    "included_labels = tallies[tallies>5000]\n",
    "\n",
    "def trimmer(data, included_labels_):    \n",
    "    for line in data:\n",
    "        paragraph = line[0]\n",
    "        ners = [match for match in line[1] if match[2] in included_labels_]\n",
    "        yield(paragraph, {\"entities\": ners})\n",
    "\n",
    "\n",
    "train_data = list(trimmer(DATA[:], list(included_labels.index)))\n",
    "train_data, holdout_data = train_test_split(train_data, train_size=0.6)\n",
    "train_data, test_data = train_test_split(train_data, train_size=0.6)"
   ]
  },
  {
   "cell_type": "markdown",
   "metadata": {},
   "source": [
    "Data is ready and we instantiate a new SpaCy model to hold the named entity recognizer and assign it the labels to train on."
   ]
  },
  {
   "cell_type": "code",
   "execution_count": 6,
   "metadata": {
    "scrolled": true
   },
   "outputs": [],
   "source": [
    "nlp = spacy.blank('en')\n",
    "ner = nlp.create_pipe(\"ner\")\n",
    "\n",
    "for label in included_labels.index:\n",
    "    ner.add_label(label)\n",
    "\n",
    "nlp.add_pipe(ner)"
   ]
  },
  {
   "cell_type": "code",
   "execution_count": 7,
   "metadata": {},
   "outputs": [
    {
     "data": {
      "application/vnd.jupyter.widget-view+json": {
       "model_id": "55f2475632d244f7a5cf7a21677fafbf",
       "version_major": 2,
       "version_minor": 0
      },
      "text/plain": [
       "HBox(children=(IntProgress(value=0, max=10), HTML(value='')))"
      ]
     },
     "metadata": {},
     "output_type": "display_data"
    },
    {
     "data": {
      "application/vnd.jupyter.widget-view+json": {
       "model_id": "",
       "version_major": 2,
       "version_minor": 0
      },
      "text/plain": [
       "HBox(children=(IntProgress(value=0, max=450), HTML(value='')))"
      ]
     },
     "metadata": {},
     "output_type": "display_data"
    },
    {
     "data": {
      "application/vnd.jupyter.widget-view+json": {
       "model_id": "",
       "version_major": 2,
       "version_minor": 0
      },
      "text/plain": [
       "HBox(children=(IntProgress(value=0, max=450), HTML(value='')))"
      ]
     },
     "metadata": {},
     "output_type": "display_data"
    },
    {
     "data": {
      "application/vnd.jupyter.widget-view+json": {
       "model_id": "",
       "version_major": 2,
       "version_minor": 0
      },
      "text/plain": [
       "HBox(children=(IntProgress(value=0, max=450), HTML(value='')))"
      ]
     },
     "metadata": {},
     "output_type": "display_data"
    },
    {
     "data": {
      "application/vnd.jupyter.widget-view+json": {
       "model_id": "",
       "version_major": 2,
       "version_minor": 0
      },
      "text/plain": [
       "HBox(children=(IntProgress(value=0, max=450), HTML(value='')))"
      ]
     },
     "metadata": {},
     "output_type": "display_data"
    },
    {
     "data": {
      "application/vnd.jupyter.widget-view+json": {
       "model_id": "",
       "version_major": 2,
       "version_minor": 0
      },
      "text/plain": [
       "HBox(children=(IntProgress(value=0, max=450), HTML(value='')))"
      ]
     },
     "metadata": {},
     "output_type": "display_data"
    },
    {
     "data": {
      "application/vnd.jupyter.widget-view+json": {
       "model_id": "",
       "version_major": 2,
       "version_minor": 0
      },
      "text/plain": [
       "HBox(children=(IntProgress(value=0, max=450), HTML(value='')))"
      ]
     },
     "metadata": {},
     "output_type": "display_data"
    },
    {
     "data": {
      "application/vnd.jupyter.widget-view+json": {
       "model_id": "",
       "version_major": 2,
       "version_minor": 0
      },
      "text/plain": [
       "HBox(children=(IntProgress(value=0, max=450), HTML(value='')))"
      ]
     },
     "metadata": {},
     "output_type": "display_data"
    },
    {
     "data": {
      "application/vnd.jupyter.widget-view+json": {
       "model_id": "",
       "version_major": 2,
       "version_minor": 0
      },
      "text/plain": [
       "HBox(children=(IntProgress(value=0, max=450), HTML(value='')))"
      ]
     },
     "metadata": {},
     "output_type": "display_data"
    },
    {
     "data": {
      "application/vnd.jupyter.widget-view+json": {
       "model_id": "",
       "version_major": 2,
       "version_minor": 0
      },
      "text/plain": [
       "HBox(children=(IntProgress(value=0, max=450), HTML(value='')))"
      ]
     },
     "metadata": {},
     "output_type": "display_data"
    },
    {
     "data": {
      "application/vnd.jupyter.widget-view+json": {
       "model_id": "",
       "version_major": 2,
       "version_minor": 0
      },
      "text/plain": [
       "HBox(children=(IntProgress(value=0, max=450), HTML(value='')))"
      ]
     },
     "metadata": {},
     "output_type": "display_data"
    },
    {
     "name": "stdout",
     "output_type": "stream",
     "text": [
      "\n"
     ]
    },
    {
     "data": {
      "text/plain": [
       "[{'ner': 57266.19267361566},\n",
       " {'ner': 30280.414518548645},\n",
       " {'ner': 25568.995411677228},\n",
       " {'ner': 23502.255086849887},\n",
       " {'ner': 21990.28781383906},\n",
       " {'ner': 20800.14545613487},\n",
       " {'ner': 20216.874722369786},\n",
       " {'ner': 19200.00733258798},\n",
       " {'ner': 18528.596530127033},\n",
       " {'ner': 17936.92538771001}]"
      ]
     },
     "metadata": {},
     "output_type": "display_data"
    }
   ],
   "source": [
    "def train_ner(nlp, train_data, n=10, batch_size=8):\n",
    "    optimizer = nlp.begin_training()\n",
    "    losses = []\n",
    "\n",
    "    # tqdm gives progress bar, otherwise this is just a for loop \n",
    "    iterations = tqdm(range(n))\n",
    "    for i in iterations:\n",
    "        data_shuffle = train_data[:]\n",
    "        Random(i).shuffle(data_shuffle)\n",
    "        # using i as a random seed so the results will be reproducable\n",
    "        loss = {}\n",
    "        batches = minibatch(data_shuffle, size=batch_size)\n",
    "        n_iterations = -(-len(train_data)//batch_size) # progress bar length\n",
    "        inner_loop = tqdm(batches, total=n_iterations, leave=False)\n",
    "        for batch in inner_loop:\n",
    "            text, annotations = zip(*batch)\n",
    "            nlp.update(text, annotations, sgd=optimizer, drop=0.25, losses=loss)\n",
    "\n",
    "        # display the most recent loss value\n",
    "        iterations.set_description(\"Loss: \" + str([round(value,2) for value in loss.values()]))\n",
    "        losses.append(loss)\n",
    "\n",
    "    # show the losses over time so we know if we stopped learning before the end\n",
    "    display(losses)\n",
    "    \n",
    "train_ner(nlp, train_data)"
   ]
  },
  {
   "cell_type": "code",
   "execution_count": 8,
   "metadata": {},
   "outputs": [],
   "source": [
    "nlp.to_disk(\"./exported_model\")\n",
    "\n",
    "# nlp = nlp.from_disk(\"./exported_model\")\n",
    "# optimizer = nlp.resume_training()"
   ]
  },
  {
   "cell_type": "code",
   "execution_count": 9,
   "metadata": {},
   "outputs": [],
   "source": [
    "def ner_evaluation(model, test_data):\n",
    "    \"\"\"This evaluates the precision and recall scores in two ways.  The phrase score is\n",
    "    for an exact match between the labeled string and the correct string.  The label\n",
    "    score is based on whether the identified label was actually present in the sentence.\"\"\"\n",
    "    \n",
    "    \n",
    "    label_tp = label_fp = label_fn = phrase_tp = phrase_fp = phrase_fn = 0\n",
    "    \n",
    "    for test in tqdm(test_data):\n",
    "        text = test[0]\n",
    "        ners = test[1]['entities']\n",
    "        true_phrases = [text[ner[0]:ner[1]] for ner in ners]\n",
    "        true_labels = [ner[2] for ner in ners]\n",
    "        \n",
    "        found_phrases = [ ent.text for ent in model(text).ents ]\n",
    "        found_labels = [ ent.label_ for ent in model(text).ents ]\n",
    "        correct = [ner[2] for ner in ners]\n",
    "        \n",
    "        for phrase in found_phrases:\n",
    "            if phrase in true_phrases:\n",
    "                phrase_tp += 1\n",
    "            else:\n",
    "                phrase_fp += 1\n",
    "        \n",
    "        for phrase in found_phrases:\n",
    "            if phrase not in found_phrases:\n",
    "                phrase_fn += 0\n",
    "            \n",
    "        for ent in found_labels:\n",
    "            if ent in true_labels:\n",
    "                label_tp += 1\n",
    "            else:\n",
    "                label_fp += 1\n",
    "        \n",
    "        for ner in true_labels:\n",
    "            if ner not in found_labels:\n",
    "                label_fn += 0\n",
    "            \n",
    "    results = {}\n",
    "    \n",
    "    results['phrase_precision'] = phrase_tp / (phrase_tp + phrase_fp)\n",
    "    results['phrase_recall'] = phrase_tp / (phrase_tp + phrase_fn)\n",
    "    results['label_precision'] = label_tp / (label_tp + label_fp)\n",
    "    results['label_recall'] = label_tp / (label_tp + label_fn)\n",
    "    \n",
    "    return results\n"
   ]
  },
  {
   "cell_type": "code",
   "execution_count": 10,
   "metadata": {},
   "outputs": [
    {
     "data": {
      "application/vnd.jupyter.widget-view+json": {
       "model_id": "c235183d907544b282afa55fcf9b810e",
       "version_major": 2,
       "version_minor": 0
      },
      "text/plain": [
       "HBox(children=(IntProgress(value=0, max=2400), HTML(value='')))"
      ]
     },
     "metadata": {},
     "output_type": "display_data"
    },
    {
     "name": "stdout",
     "output_type": "stream",
     "text": [
      "\n"
     ]
    },
    {
     "data": {
      "text/plain": [
       "{'phrase_precision': 0.9221655948982043,\n",
       " 'phrase_recall': 1.0,\n",
       " 'label_precision': 0.9731035034821357,\n",
       " 'label_recall': 1.0}"
      ]
     },
     "execution_count": 10,
     "metadata": {},
     "output_type": "execute_result"
    }
   ],
   "source": [
    "ner_evaluation(nlp, test_data)"
   ]
  }
 ],
 "metadata": {
  "kernelspec": {
   "display_name": "Python 3",
   "language": "python",
   "name": "python3"
  },
  "language_info": {
   "codemirror_mode": {
    "name": "ipython",
    "version": 3
   },
   "file_extension": ".py",
   "mimetype": "text/x-python",
   "name": "python",
   "nbconvert_exporter": "python",
   "pygments_lexer": "ipython3",
   "version": "3.7.4"
  },
  "widgets": {
   "application/vnd.jupyter.widget-state+json": {
    "state": {
     "003ada6fba0c4eafacf14e0205309595": {
      "model_module": "@jupyter-widgets/base",
      "model_module_version": "1.2.0",
      "model_name": "LayoutModel",
      "state": {}
     },
     "028a5d39acd34dbba8f53631641eb102": {
      "model_module": "@jupyter-widgets/controls",
      "model_module_version": "1.5.0",
      "model_name": "HTMLModel",
      "state": {
       "layout": "IPY_MODEL_349b506406824e85b0b40d5b58f5ea3f",
       "style": "IPY_MODEL_329df486f81b4e779f63caa3e50761a1",
       "value": " 0/450 [04:58&lt;?, ?it/s]"
      }
     },
     "02aa7f66686b4ecc9830e22e0f6a8948": {
      "model_module": "@jupyter-widgets/base",
      "model_module_version": "1.2.0",
      "model_name": "LayoutModel",
      "state": {}
     },
     "02cff924023642a98772dd36194b844e": {
      "model_module": "@jupyter-widgets/controls",
      "model_module_version": "1.5.0",
      "model_name": "HBoxModel",
      "state": {
       "children": [
        "IPY_MODEL_d90cbee5d17e4a8d9dbda472d9b881d1",
        "IPY_MODEL_489a1adfe4c34f718a5cfbcc2fc6c3b1"
       ],
       "layout": "IPY_MODEL_61ee42411e5a4b3298df89f2c1a37677"
      }
     },
     "03580a8660464c5c8eea0eac1cd1c427": {
      "model_module": "@jupyter-widgets/controls",
      "model_module_version": "1.5.0",
      "model_name": "IntProgressModel",
      "state": {
       "bar_style": "success",
       "description": "Loss: []: 100%",
       "layout": "IPY_MODEL_890c21d533204ab19f614326fa86d3a1",
       "max": 10,
       "style": "IPY_MODEL_162ee9e56fab498baf4ec39125af64b3",
       "value": 10
      }
     },
     "039c4ea249d944c1a243df77d65a638d": {
      "model_module": "@jupyter-widgets/controls",
      "model_module_version": "1.5.0",
      "model_name": "HTMLModel",
      "state": {
       "layout": "IPY_MODEL_33f81532fc3c436f9937f75c35a90536",
       "style": "IPY_MODEL_233495d074154d12bd200acc8f53267c",
       "value": " 0/15 [28:05&lt;?, ?it/s]"
      }
     },
     "040c86228215497eb189944e7c325bb3": {
      "model_module": "@jupyter-widgets/controls",
      "model_module_version": "1.5.0",
      "model_name": "DescriptionStyleModel",
      "state": {
       "description_width": ""
      }
     },
     "04794c65e7e34d0c970b5d2634d25fed": {
      "model_module": "@jupyter-widgets/base",
      "model_module_version": "1.2.0",
      "model_name": "LayoutModel",
      "state": {}
     },
     "04c87c3e808246199da94ca5117be430": {
      "model_module": "@jupyter-widgets/controls",
      "model_module_version": "1.5.0",
      "model_name": "ProgressStyleModel",
      "state": {
       "description_width": "initial"
      }
     },
     "057de84c95eb4e228a159e41f213d4f2": {
      "model_module": "@jupyter-widgets/base",
      "model_module_version": "1.2.0",
      "model_name": "LayoutModel",
      "state": {}
     },
     "0597a6abdbca4d0a995ecbf2528e4966": {
      "model_module": "@jupyter-widgets/controls",
      "model_module_version": "1.5.0",
      "model_name": "IntProgressModel",
      "state": {
       "bar_style": "info",
       "layout": "IPY_MODEL_60db68f17a824af1b420378851f17322",
       "max": 1,
       "style": "IPY_MODEL_bbcbeb3b436e47849794069bf714bdef"
      }
     },
     "063b4855e0604cd9b22d1bbc7126c349": {
      "model_module": "@jupyter-widgets/controls",
      "model_module_version": "1.5.0",
      "model_name": "ProgressStyleModel",
      "state": {
       "description_width": "initial"
      }
     },
     "06f86457e05c479ca40313deb9c5137b": {
      "model_module": "@jupyter-widgets/base",
      "model_module_version": "1.2.0",
      "model_name": "LayoutModel",
      "state": {}
     },
     "0793a932294e40089fd95587bc4e2131": {
      "model_module": "@jupyter-widgets/base",
      "model_module_version": "1.2.0",
      "model_name": "LayoutModel",
      "state": {}
     },
     "0908989dffe64e80a2ea17ec7ab042bb": {
      "model_module": "@jupyter-widgets/controls",
      "model_module_version": "1.5.0",
      "model_name": "ProgressStyleModel",
      "state": {
       "description_width": "initial"
      }
     },
     "09205804a7f74b479088e317442afd86": {
      "model_module": "@jupyter-widgets/controls",
      "model_module_version": "1.5.0",
      "model_name": "IntProgressModel",
      "state": {
       "bar_style": "danger",
       "description": "  0%",
       "layout": "IPY_MODEL_91bab8000dde490b95a124ef7922f519",
       "max": 450,
       "style": "IPY_MODEL_6e74f1e311404bb792231e97e8cf3aeb"
      }
     },
     "09d7f4b5ef0a42e4b7674afe118d749c": {
      "model_module": "@jupyter-widgets/controls",
      "model_module_version": "1.5.0",
      "model_name": "DescriptionStyleModel",
      "state": {
       "description_width": ""
      }
     },
     "09f841ccc2e14be3bec61cfc2fd3ea22": {
      "model_module": "@jupyter-widgets/base",
      "model_module_version": "1.2.0",
      "model_name": "LayoutModel",
      "state": {}
     },
     "0a308cfcef0c41dd8a02b6282cc4ee4b": {
      "model_module": "@jupyter-widgets/base",
      "model_module_version": "1.2.0",
      "model_name": "LayoutModel",
      "state": {}
     },
     "0ac8ca67a6b14d65a8a4a46effe74069": {
      "model_module": "@jupyter-widgets/controls",
      "model_module_version": "1.5.0",
      "model_name": "HTMLModel",
      "state": {
       "layout": "IPY_MODEL_5a61ed98650b43c8a3ad590308ef2b97",
       "style": "IPY_MODEL_56080f15f4914a3693df9025658cae8f",
       "value": " 0/15 [24:02&lt;?, ?it/s]"
      }
     },
     "0af3a6dcff764c2f80cc3a20bf5c1039": {
      "model_module": "@jupyter-widgets/controls",
      "model_module_version": "1.5.0",
      "model_name": "IntProgressModel",
      "state": {
       "description": "100%",
       "layout": "IPY_MODEL_c032d7bdf7fb4b83bc625ad4838162fd",
       "max": 450,
       "style": "IPY_MODEL_4345b68794804220a8a93ad161c6bc04",
       "value": 450
      }
     },
     "0b4e1697ae064ad4956a3f3401b9a5ee": {
      "model_module": "@jupyter-widgets/controls",
      "model_module_version": "1.5.0",
      "model_name": "DescriptionStyleModel",
      "state": {
       "description_width": ""
      }
     },
     "0cf2be92fc7640c5af8815b0349dc81d": {
      "model_module": "@jupyter-widgets/controls",
      "model_module_version": "1.5.0",
      "model_name": "HBoxModel",
      "state": {
       "children": [
        "IPY_MODEL_38cc25e36e0446819dc57ec5818f0cda",
        "IPY_MODEL_028a5d39acd34dbba8f53631641eb102"
       ],
       "layout": "IPY_MODEL_445ec63592db49d3a0047dc793d9f20f"
      }
     },
     "0d07ce4c44454963b7b826af87952bf9": {
      "model_module": "@jupyter-widgets/base",
      "model_module_version": "1.2.0",
      "model_name": "LayoutModel",
      "state": {}
     },
     "0d8e6f9d15a14505a6eada9770249a3f": {
      "model_module": "@jupyter-widgets/controls",
      "model_module_version": "1.5.0",
      "model_name": "ProgressStyleModel",
      "state": {
       "description_width": "initial"
      }
     },
     "0da33782bf024aecb53dc0714210cc3d": {
      "model_module": "@jupyter-widgets/base",
      "model_module_version": "1.2.0",
      "model_name": "LayoutModel",
      "state": {}
     },
     "0ff2cb3b9c6e435c933d36a993014942": {
      "model_module": "@jupyter-widgets/controls",
      "model_module_version": "1.5.0",
      "model_name": "ProgressStyleModel",
      "state": {
       "description_width": "initial"
      }
     },
     "10203a89f5044fe3b9efebde6e0c113a": {
      "model_module": "@jupyter-widgets/controls",
      "model_module_version": "1.5.0",
      "model_name": "HTMLModel",
      "state": {
       "layout": "IPY_MODEL_87fef63a5b774562a62e00a1bc05585c",
       "style": "IPY_MODEL_f9826982906d490fae366fa8e06318f0",
       "value": " 981/981 [02:16&lt;00:00,  7.80it/s]"
      }
     },
     "10f35d1faea84dfab4961f30ffc487ec": {
      "model_module": "@jupyter-widgets/controls",
      "model_module_version": "1.5.0",
      "model_name": "ProgressStyleModel",
      "state": {
       "description_width": "initial"
      }
     },
     "111eb35cd6fc44ee91df3738d6eb022a": {
      "model_module": "@jupyter-widgets/base",
      "model_module_version": "1.2.0",
      "model_name": "LayoutModel",
      "state": {}
     },
     "119bb54de4ce45cab5689c766747abb9": {
      "model_module": "@jupyter-widgets/controls",
      "model_module_version": "1.5.0",
      "model_name": "HTMLModel",
      "state": {
       "layout": "IPY_MODEL_d8f5be49716c42dcb8183bd03ff4355b",
       "style": "IPY_MODEL_6e2a82342bf14cce826d61af66c94930",
       "value": " 900/900 [02:07&lt;00:00,  6.95it/s]"
      }
     },
     "11fbf52f5c754634a1785416f02e1389": {
      "model_module": "@jupyter-widgets/controls",
      "model_module_version": "1.5.0",
      "model_name": "ProgressStyleModel",
      "state": {
       "description_width": "initial"
      }
     },
     "126ee9ac63cb49d9af32ebad5d304c16": {
      "model_module": "@jupyter-widgets/base",
      "model_module_version": "1.2.0",
      "model_name": "LayoutModel",
      "state": {}
     },
     "12756e220026425b886ad8534e05fea1": {
      "model_module": "@jupyter-widgets/base",
      "model_module_version": "1.2.0",
      "model_name": "LayoutModel",
      "state": {}
     },
     "13b1d74ad7754bb4a71aebd23191f252": {
      "model_module": "@jupyter-widgets/base",
      "model_module_version": "1.2.0",
      "model_name": "LayoutModel",
      "state": {}
     },
     "13fa0aa9baa043ee8043722355a2f4a8": {
      "model_module": "@jupyter-widgets/controls",
      "model_module_version": "1.5.0",
      "model_name": "IntProgressModel",
      "state": {
       "bar_style": "success",
       "description": "100%",
       "layout": "IPY_MODEL_85f06bf73bf649bb94158da2a9414913",
       "max": 10000,
       "style": "IPY_MODEL_1539756efb7d43298b0143e8e9f192c8",
       "value": 10000
      }
     },
     "1539756efb7d43298b0143e8e9f192c8": {
      "model_module": "@jupyter-widgets/controls",
      "model_module_version": "1.5.0",
      "model_name": "ProgressStyleModel",
      "state": {
       "description_width": "initial"
      }
     },
     "15c1b689850240eb95db6ab5523c32cf": {
      "model_module": "@jupyter-widgets/controls",
      "model_module_version": "1.5.0",
      "model_name": "DescriptionStyleModel",
      "state": {
       "description_width": ""
      }
     },
     "16003cbf325f4d21b03aee6bdbe80f39": {
      "model_module": "@jupyter-widgets/controls",
      "model_module_version": "1.5.0",
      "model_name": "HBoxModel",
      "state": {
       "children": [
        "IPY_MODEL_c5a57d13c7fc47aba8941a3e92ee8d2f",
        "IPY_MODEL_d533e85013f043d9829c5a21457baad8"
       ],
       "layout": "IPY_MODEL_5f174e6aca6c48879100e03808ba9bea"
      }
     },
     "162ee9e56fab498baf4ec39125af64b3": {
      "model_module": "@jupyter-widgets/controls",
      "model_module_version": "1.5.0",
      "model_name": "ProgressStyleModel",
      "state": {
       "description_width": "initial"
      }
     },
     "1794143be8464b2cb9b97c0dbf1e5510": {
      "model_module": "@jupyter-widgets/controls",
      "model_module_version": "1.5.0",
      "model_name": "DescriptionStyleModel",
      "state": {
       "description_width": ""
      }
     },
     "17cc1d36963a4ecf8134b7ddbe70db15": {
      "model_module": "@jupyter-widgets/controls",
      "model_module_version": "1.5.0",
      "model_name": "ProgressStyleModel",
      "state": {
       "description_width": "initial"
      }
     },
     "17cd7decd2c14ef3a35bc9fcf8adcfe5": {
      "model_module": "@jupyter-widgets/controls",
      "model_module_version": "1.5.0",
      "model_name": "IntProgressModel",
      "state": {
       "bar_style": "danger",
       "description": "  0%",
       "layout": "IPY_MODEL_384488bf0f28491cbde06766e75260ce",
       "max": 450,
       "style": "IPY_MODEL_b736634cd5874bccb31f3b1d2c2d4ee5"
      }
     },
     "18c7a8e84d984f6a8c669bc09ffdeddc": {
      "model_module": "@jupyter-widgets/controls",
      "model_module_version": "1.5.0",
      "model_name": "HTMLModel",
      "state": {
       "layout": "IPY_MODEL_4bc0eaf6a48446ba87df49aa2748fc45",
       "style": "IPY_MODEL_3f8bee1f7afe455189caf9373db98c34",
       "value": " 0/450 [03:05&lt;?, ?it/s]"
      }
     },
     "190b5a5c9cb94d3d83132d25ea574e9c": {
      "model_module": "@jupyter-widgets/base",
      "model_module_version": "1.2.0",
      "model_name": "LayoutModel",
      "state": {}
     },
     "192d0b9d2cda45c5b96be9cb4f783edb": {
      "model_module": "@jupyter-widgets/controls",
      "model_module_version": "1.5.0",
      "model_name": "IntProgressModel",
      "state": {
       "description": "100%",
       "layout": "IPY_MODEL_d4619cbbb2d14f59ae38eb417a3b7984",
       "max": 450,
       "style": "IPY_MODEL_83ae465b699c43a287014e7db7ba0470",
       "value": 450
      }
     },
     "19751064837a4bbc9f3ebf99b3e3e753": {
      "model_module": "@jupyter-widgets/base",
      "model_module_version": "1.2.0",
      "model_name": "LayoutModel",
      "state": {}
     },
     "19e2180fb51f43a18086280ff193a57e": {
      "model_module": "@jupyter-widgets/controls",
      "model_module_version": "1.5.0",
      "model_name": "HBoxModel",
      "state": {
       "children": [
        "IPY_MODEL_a3daf12aef68478681c53fc7fda2c8ff",
        "IPY_MODEL_418e9dbe7b234d00a79a3a2690524240"
       ],
       "layout": "IPY_MODEL_355c667896754136becc123d6d946825"
      }
     },
     "1a18fc9a9393430f8076de1d23ee27ec": {
      "model_module": "@jupyter-widgets/controls",
      "model_module_version": "1.5.0",
      "model_name": "HTMLModel",
      "state": {
       "layout": "IPY_MODEL_df11a475a05d42dd87ad7159105cba7d",
       "style": "IPY_MODEL_97fdc93303e148d796ea26ddfdaa8fdc",
       "value": " 450/450 [01:35&lt;00:00,  4.97it/s]"
      }
     },
     "1b804b2efc194125bfddba46a3aac80b": {
      "model_module": "@jupyter-widgets/controls",
      "model_module_version": "1.5.0",
      "model_name": "HBoxModel",
      "state": {
       "children": [
        "IPY_MODEL_1f2699239a494f079a3ae08e7be99850",
        "IPY_MODEL_2b574009534f4a17a3052d0d654ee062"
       ],
       "layout": "IPY_MODEL_1f89dd90421c48618b069275beaad7d8"
      }
     },
     "1be737933f994d0c92dc65d246bee56b": {
      "model_module": "@jupyter-widgets/base",
      "model_module_version": "1.2.0",
      "model_name": "LayoutModel",
      "state": {}
     },
     "1cd7404b68c64c44a12dcb2872a5c8d8": {
      "model_module": "@jupyter-widgets/controls",
      "model_module_version": "1.5.0",
      "model_name": "IntProgressModel",
      "state": {
       "bar_style": "danger",
       "description": "  0%",
       "layout": "IPY_MODEL_27168067c0814b2fb9a74d36ea5905c1",
       "max": 450,
       "style": "IPY_MODEL_b9fb6157aa8845c496d2012efa6d6afb"
      }
     },
     "1d0139b5b9ea48efbb200f0c30565ac1": {
      "model_module": "@jupyter-widgets/base",
      "model_module_version": "1.2.0",
      "model_name": "LayoutModel",
      "state": {}
     },
     "1d4aacfbceb744749c365c54e157c248": {
      "model_module": "@jupyter-widgets/base",
      "model_module_version": "1.2.0",
      "model_name": "LayoutModel",
      "state": {}
     },
     "1de0e20fb4cd40278dad320ebd90512e": {
      "model_module": "@jupyter-widgets/controls",
      "model_module_version": "1.5.0",
      "model_name": "ProgressStyleModel",
      "state": {
       "description_width": "initial"
      }
     },
     "1ed8941668a149fc80f8e472a95f961e": {
      "model_module": "@jupyter-widgets/base",
      "model_module_version": "1.2.0",
      "model_name": "LayoutModel",
      "state": {}
     },
     "1f2699239a494f079a3ae08e7be99850": {
      "model_module": "@jupyter-widgets/controls",
      "model_module_version": "1.5.0",
      "model_name": "IntProgressModel",
      "state": {
       "bar_style": "danger",
       "description": "  0%",
       "layout": "IPY_MODEL_12756e220026425b886ad8534e05fea1",
       "max": 450,
       "style": "IPY_MODEL_0908989dffe64e80a2ea17ec7ab042bb"
      }
     },
     "1f40f04d963d44298a4b319adb0d990a": {
      "model_module": "@jupyter-widgets/base",
      "model_module_version": "1.2.0",
      "model_name": "LayoutModel",
      "state": {}
     },
     "1f89dd90421c48618b069275beaad7d8": {
      "model_module": "@jupyter-widgets/base",
      "model_module_version": "1.2.0",
      "model_name": "LayoutModel",
      "state": {}
     },
     "1ffb83c558794b86aa8e336d0c8306d7": {
      "model_module": "@jupyter-widgets/controls",
      "model_module_version": "1.5.0",
      "model_name": "HTMLModel",
      "state": {
       "layout": "IPY_MODEL_85877f4e332c40e6b9fd30c0896561e7",
       "style": "IPY_MODEL_37a9b939639f43059bd5a685b3ac590e",
       "value": " 0/10 [05:27&lt;?, ?it/s]"
      }
     },
     "2026f91b0263495686117af64809aed3": {
      "model_module": "@jupyter-widgets/controls",
      "model_module_version": "1.5.0",
      "model_name": "HBoxModel",
      "state": {
       "children": [
        "IPY_MODEL_fc81c77224a54426a676f188a5b0db72",
        "IPY_MODEL_41c46deae30445e8ac320b0bdead3cb3"
       ],
       "layout": "IPY_MODEL_a0aeb6f64133474bb2bee51ca2fe5ca3"
      }
     },
     "20350fac389d4804b0f0f988e91c7151": {
      "model_module": "@jupyter-widgets/base",
      "model_module_version": "1.2.0",
      "model_name": "LayoutModel",
      "state": {}
     },
     "2064b9be860b4597987366b4bd4022b4": {
      "model_module": "@jupyter-widgets/base",
      "model_module_version": "1.2.0",
      "model_name": "LayoutModel",
      "state": {}
     },
     "20aeec11a29645d0bb7875a7f917470e": {
      "model_module": "@jupyter-widgets/controls",
      "model_module_version": "1.5.0",
      "model_name": "DescriptionStyleModel",
      "state": {
       "description_width": ""
      }
     },
     "20d260e2dd074e48939255e0bbdee3a1": {
      "model_module": "@jupyter-widgets/controls",
      "model_module_version": "1.5.0",
      "model_name": "HBoxModel",
      "state": {
       "children": [
        "IPY_MODEL_54d2f922dcde496b85db285c610844c3",
        "IPY_MODEL_75797101bfeb47b4a5ae109aed19edff"
       ],
       "layout": "IPY_MODEL_40aafd756eb84ae488cd1dc74306a84f"
      }
     },
     "20f141e1c86f4b9fb40b4dd869ac2695": {
      "model_module": "@jupyter-widgets/base",
      "model_module_version": "1.2.0",
      "model_name": "LayoutModel",
      "state": {}
     },
     "21294d2c7cf5497085adffba81df6d33": {
      "model_module": "@jupyter-widgets/base",
      "model_module_version": "1.2.0",
      "model_name": "LayoutModel",
      "state": {}
     },
     "217f52c7a4ba458d99cfac5b1504c17a": {
      "model_module": "@jupyter-widgets/base",
      "model_module_version": "1.2.0",
      "model_name": "LayoutModel",
      "state": {}
     },
     "21a5d63256c94e2089591e340a699f05": {
      "model_module": "@jupyter-widgets/controls",
      "model_module_version": "1.5.0",
      "model_name": "HTMLModel",
      "state": {
       "layout": "IPY_MODEL_2378ea7c711b4b0583a5273a7a6571f3",
       "style": "IPY_MODEL_d41e6b72fa5f47a7a3d466724dfd0231",
       "value": " 0/10 [06:05&lt;?, ?it/s]"
      }
     },
     "220827fb447d4f15987139fb4aea549f": {
      "model_module": "@jupyter-widgets/controls",
      "model_module_version": "1.5.0",
      "model_name": "DescriptionStyleModel",
      "state": {
       "description_width": ""
      }
     },
     "233495d074154d12bd200acc8f53267c": {
      "model_module": "@jupyter-widgets/controls",
      "model_module_version": "1.5.0",
      "model_name": "DescriptionStyleModel",
      "state": {
       "description_width": ""
      }
     },
     "2378ea7c711b4b0583a5273a7a6571f3": {
      "model_module": "@jupyter-widgets/base",
      "model_module_version": "1.2.0",
      "model_name": "LayoutModel",
      "state": {}
     },
     "240b45081db349df924e714418c8bdb3": {
      "model_module": "@jupyter-widgets/controls",
      "model_module_version": "1.5.0",
      "model_name": "DescriptionStyleModel",
      "state": {
       "description_width": ""
      }
     },
     "24639fec24bf4d99b934d0f3ff6d883c": {
      "model_module": "@jupyter-widgets/controls",
      "model_module_version": "1.5.0",
      "model_name": "ProgressStyleModel",
      "state": {
       "description_width": "initial"
      }
     },
     "24e1a8e415ba4ceb8fbdd79fe778ed3c": {
      "model_module": "@jupyter-widgets/controls",
      "model_module_version": "1.5.0",
      "model_name": "HTMLModel",
      "state": {
       "layout": "IPY_MODEL_20f141e1c86f4b9fb40b4dd869ac2695",
       "style": "IPY_MODEL_550ed34fc29f46ae87d1d5e8021bfd57",
       "value": " 0/450 [04:58&lt;?, ?it/s]"
      }
     },
     "27168067c0814b2fb9a74d36ea5905c1": {
      "model_module": "@jupyter-widgets/base",
      "model_module_version": "1.2.0",
      "model_name": "LayoutModel",
      "state": {}
     },
     "27b6b0762d05464093b001ccb80f3f52": {
      "model_module": "@jupyter-widgets/controls",
      "model_module_version": "1.5.0",
      "model_name": "DescriptionStyleModel",
      "state": {
       "description_width": ""
      }
     },
     "27d25441a15c4d5c88cc083f7657f7d6": {
      "model_module": "@jupyter-widgets/base",
      "model_module_version": "1.2.0",
      "model_name": "LayoutModel",
      "state": {}
     },
     "27e97054ea9c46f98e2bdcdd33e1a659": {
      "model_module": "@jupyter-widgets/controls",
      "model_module_version": "1.5.0",
      "model_name": "HTMLModel",
      "state": {
       "layout": "IPY_MODEL_ad8eaa0e244f43e4ab0c1fe95ba1c413",
       "style": "IPY_MODEL_6de1a9802b16448ca18fb7463ebba05d",
       "value": " 0/10 [03:24&lt;?, ?it/s]"
      }
     },
     "285ffc291e0d4fa2b88cc03afa8350b5": {
      "model_module": "@jupyter-widgets/controls",
      "model_module_version": "1.5.0",
      "model_name": "HTMLModel",
      "state": {
       "layout": "IPY_MODEL_c28a01c5bf764b5ca48d384225416736",
       "style": "IPY_MODEL_15c1b689850240eb95db6ab5523c32cf",
       "value": " 0/450 [03:24&lt;?, ?it/s]"
      }
     },
     "286f3ea17d3e49e0b103309a64fb8157": {
      "model_module": "@jupyter-widgets/controls",
      "model_module_version": "1.5.0",
      "model_name": "HTMLModel",
      "state": {
       "layout": "IPY_MODEL_b4b85d5eac3c45eabbdca83d7e04611d",
       "style": "IPY_MODEL_8c41cc38176a44f3b8d029b6f0477601",
       "value": " 0/450 [00:00&lt;?, ?it/s]"
      }
     },
     "28a6bd6094724d1b996eafb98c26d9cb": {
      "model_module": "@jupyter-widgets/controls",
      "model_module_version": "1.5.0",
      "model_name": "DescriptionStyleModel",
      "state": {
       "description_width": ""
      }
     },
     "28cb84d11819499baea9140455f45780": {
      "model_module": "@jupyter-widgets/controls",
      "model_module_version": "1.5.0",
      "model_name": "ProgressStyleModel",
      "state": {
       "description_width": "initial"
      }
     },
     "29e80a70ba65445aa60961cca584351e": {
      "model_module": "@jupyter-widgets/base",
      "model_module_version": "1.2.0",
      "model_name": "LayoutModel",
      "state": {}
     },
     "2a55fed9b102414c96d1a762b71db9ae": {
      "model_module": "@jupyter-widgets/base",
      "model_module_version": "1.2.0",
      "model_name": "LayoutModel",
      "state": {}
     },
     "2a9edd2bbaf1467f87fc6fd8e8b8b01d": {
      "model_module": "@jupyter-widgets/controls",
      "model_module_version": "1.5.0",
      "model_name": "IntProgressModel",
      "state": {
       "description": "100%",
       "layout": "IPY_MODEL_bdfb426fa6484862a8367d1f20ab72ca",
       "max": 450,
       "style": "IPY_MODEL_c0accf68ab23429b974ae9f790530efa",
       "value": 450
      }
     },
     "2b510d39498c484aa997599a3885511e": {
      "model_module": "@jupyter-widgets/controls",
      "model_module_version": "1.5.0",
      "model_name": "IntProgressModel",
      "state": {
       "bar_style": "danger",
       "description": "  0%",
       "layout": "IPY_MODEL_06f86457e05c479ca40313deb9c5137b",
       "max": 450,
       "style": "IPY_MODEL_ae081fc9b10642c6b2fe17bfd42ed33d"
      }
     },
     "2b574009534f4a17a3052d0d654ee062": {
      "model_module": "@jupyter-widgets/controls",
      "model_module_version": "1.5.0",
      "model_name": "HTMLModel",
      "state": {
       "layout": "IPY_MODEL_13b1d74ad7754bb4a71aebd23191f252",
       "style": "IPY_MODEL_aea76924f3dc44d7a951aec08295bb3b",
       "value": " 0/450 [04:58&lt;?, ?it/s]"
      }
     },
     "2b6046a1414f4c2c9e1b1288cd8f81a7": {
      "model_module": "@jupyter-widgets/controls",
      "model_module_version": "1.5.0",
      "model_name": "HTMLModel",
      "state": {
       "layout": "IPY_MODEL_190b5a5c9cb94d3d83132d25ea574e9c",
       "style": "IPY_MODEL_20aeec11a29645d0bb7875a7f917470e",
       "value": " 450/450 [01:32&lt;00:00,  5.52it/s]"
      }
     },
     "2b675c284b884bffb826dfe486d930f2": {
      "model_module": "@jupyter-widgets/base",
      "model_module_version": "1.2.0",
      "model_name": "LayoutModel",
      "state": {}
     },
     "2b8a8c7b943749a3801a781c3e3a8004": {
      "model_module": "@jupyter-widgets/base",
      "model_module_version": "1.2.0",
      "model_name": "LayoutModel",
      "state": {}
     },
     "2bdfab4c382848a096eeec1b564e3c96": {
      "model_module": "@jupyter-widgets/controls",
      "model_module_version": "1.5.0",
      "model_name": "HBoxModel",
      "state": {
       "children": [
        "IPY_MODEL_5f1db8928ed34625ab4fa0215fc08a9f",
        "IPY_MODEL_33d5dc48b45d45bc8ecb3e895f9dd872"
       ],
       "layout": "IPY_MODEL_b3b556d4476244bc9c9ef29c088f6da9"
      }
     },
     "2d496518004a4902802e609963e4c852": {
      "model_module": "@jupyter-widgets/base",
      "model_module_version": "1.2.0",
      "model_name": "LayoutModel",
      "state": {}
     },
     "2f054804362043268df24c1291e50785": {
      "model_module": "@jupyter-widgets/base",
      "model_module_version": "1.2.0",
      "model_name": "LayoutModel",
      "state": {}
     },
     "2f7363ba3bc644bc9fd140f5891d7df7": {
      "model_module": "@jupyter-widgets/controls",
      "model_module_version": "1.5.0",
      "model_name": "DescriptionStyleModel",
      "state": {
       "description_width": ""
      }
     },
     "2f74bc3c92b6481b89cecbc1eb5356ef": {
      "model_module": "@jupyter-widgets/controls",
      "model_module_version": "1.5.0",
      "model_name": "ProgressStyleModel",
      "state": {
       "description_width": "initial"
      }
     },
     "2fbe02270be348c08806b07c8d3d3c9b": {
      "model_module": "@jupyter-widgets/controls",
      "model_module_version": "1.5.0",
      "model_name": "DescriptionStyleModel",
      "state": {
       "description_width": ""
      }
     },
     "30141f466bf74664bd25687432524b3f": {
      "model_module": "@jupyter-widgets/base",
      "model_module_version": "1.2.0",
      "model_name": "LayoutModel",
      "state": {}
     },
     "30b135b593d3474faa33b63da61aa4f8": {
      "model_module": "@jupyter-widgets/controls",
      "model_module_version": "1.5.0",
      "model_name": "IntProgressModel",
      "state": {
       "bar_style": "danger",
       "description": "  0%",
       "layout": "IPY_MODEL_52553cb953034e4c805367ce86ef82d0",
       "max": 450,
       "style": "IPY_MODEL_24639fec24bf4d99b934d0f3ff6d883c"
      }
     },
     "30fb16a6e2064fa1a8c985fa14c466cc": {
      "model_module": "@jupyter-widgets/base",
      "model_module_version": "1.2.0",
      "model_name": "LayoutModel",
      "state": {}
     },
     "31bb510f5c014390873199d9370f9074": {
      "model_module": "@jupyter-widgets/base",
      "model_module_version": "1.2.0",
      "model_name": "LayoutModel",
      "state": {}
     },
     "321aa94fd0f04a2ab22c85c395becc8f": {
      "model_module": "@jupyter-widgets/controls",
      "model_module_version": "1.5.0",
      "model_name": "HBoxModel",
      "state": {
       "children": [
        "IPY_MODEL_836f066c67494d33b5bf8d99da6d53f1",
        "IPY_MODEL_974d879bb6f74e10a5e1bcdeeb98d72a"
       ],
       "layout": "IPY_MODEL_a428e4f9bee9460b8d1d986d1455ef90"
      }
     },
     "325e198cddd64321bc34364bd70e2a8c": {
      "model_module": "@jupyter-widgets/base",
      "model_module_version": "1.2.0",
      "model_name": "LayoutModel",
      "state": {}
     },
     "329df486f81b4e779f63caa3e50761a1": {
      "model_module": "@jupyter-widgets/controls",
      "model_module_version": "1.5.0",
      "model_name": "DescriptionStyleModel",
      "state": {
       "description_width": ""
      }
     },
     "33778f5cfb10421b9b4d9de34d4344eb": {
      "model_module": "@jupyter-widgets/controls",
      "model_module_version": "1.5.0",
      "model_name": "IntProgressModel",
      "state": {
       "bar_style": "danger",
       "description": "  0%",
       "layout": "IPY_MODEL_6c415b0f33e74434b3166043465bc8ee",
       "max": 3600,
       "style": "IPY_MODEL_8daf939a7ecc4255b930d3ad057b266d"
      }
     },
     "33d5dc48b45d45bc8ecb3e895f9dd872": {
      "model_module": "@jupyter-widgets/controls",
      "model_module_version": "1.5.0",
      "model_name": "HTMLModel",
      "state": {
       "layout": "IPY_MODEL_45cb32dcbfdd47fc8f7d472a50de6867",
       "style": "IPY_MODEL_a72d8b8dadd0476196a37b0ad7ba44fe",
       "value": " 0/10 [00:06&lt;?, ?it/s]"
      }
     },
     "33f81532fc3c436f9937f75c35a90536": {
      "model_module": "@jupyter-widgets/base",
      "model_module_version": "1.2.0",
      "model_name": "LayoutModel",
      "state": {}
     },
     "349b506406824e85b0b40d5b58f5ea3f": {
      "model_module": "@jupyter-widgets/base",
      "model_module_version": "1.2.0",
      "model_name": "LayoutModel",
      "state": {}
     },
     "34cd66b043074042b7e42b8ddf293211": {
      "model_module": "@jupyter-widgets/base",
      "model_module_version": "1.2.0",
      "model_name": "LayoutModel",
      "state": {}
     },
     "355c667896754136becc123d6d946825": {
      "model_module": "@jupyter-widgets/base",
      "model_module_version": "1.2.0",
      "model_name": "LayoutModel",
      "state": {}
     },
     "356616eda0d6454186be7128685ef8eb": {
      "model_module": "@jupyter-widgets/controls",
      "model_module_version": "1.5.0",
      "model_name": "HTMLModel",
      "state": {
       "layout": "IPY_MODEL_b2687da8cec7442f8f3684e6e52f2595",
       "style": "IPY_MODEL_27b6b0762d05464093b001ccb80f3f52",
       "value": " 450/450 [01:33&lt;00:00,  4.52it/s]"
      }
     },
     "372c7a9c0105416180f0558d758570f0": {
      "model_module": "@jupyter-widgets/controls",
      "model_module_version": "1.5.0",
      "model_name": "HTMLModel",
      "state": {
       "layout": "IPY_MODEL_9f5590b61b3d43e1bd41789e8a65501f",
       "style": "IPY_MODEL_88f0e7e026e14988b82bed92ca7ea18d",
       "value": " 10000/10000 [00:04&lt;00:00, 2070.37it/s]"
      }
     },
     "37512a810a404b9abc1b782a6ff4636f": {
      "model_module": "@jupyter-widgets/controls",
      "model_module_version": "1.5.0",
      "model_name": "HTMLModel",
      "state": {
       "layout": "IPY_MODEL_6d92e02e51f04b86b753ffb48196abe3",
       "style": "IPY_MODEL_c410026e50be48078730f8677106dbf5",
       "value": " 0/450 [04:58&lt;?, ?it/s]"
      }
     },
     "37a9b939639f43059bd5a685b3ac590e": {
      "model_module": "@jupyter-widgets/controls",
      "model_module_version": "1.5.0",
      "model_name": "DescriptionStyleModel",
      "state": {
       "description_width": ""
      }
     },
     "37e5feff5eb043c9be4541b556e65ab9": {
      "model_module": "@jupyter-widgets/controls",
      "model_module_version": "1.5.0",
      "model_name": "IntProgressModel",
      "state": {
       "bar_style": "success",
       "description": "Loss: [17936.93]: 100%",
       "layout": "IPY_MODEL_f30fe52320174cbdb98614c01e9bddaa",
       "max": 10,
       "style": "IPY_MODEL_b419c84f865747e7a597405805f8cb30",
       "value": 10
      }
     },
     "382e922c071b4c449c935ec41ac04f78": {
      "model_module": "@jupyter-widgets/base",
      "model_module_version": "1.2.0",
      "model_name": "LayoutModel",
      "state": {}
     },
     "384488bf0f28491cbde06766e75260ce": {
      "model_module": "@jupyter-widgets/base",
      "model_module_version": "1.2.0",
      "model_name": "LayoutModel",
      "state": {}
     },
     "3876232b9f5b4bc0836f6dede3640816": {
      "model_module": "@jupyter-widgets/base",
      "model_module_version": "1.2.0",
      "model_name": "LayoutModel",
      "state": {}
     },
     "38c53ca54d614368992c81b31a406c77": {
      "model_module": "@jupyter-widgets/base",
      "model_module_version": "1.2.0",
      "model_name": "LayoutModel",
      "state": {}
     },
     "38cc25e36e0446819dc57ec5818f0cda": {
      "model_module": "@jupyter-widgets/controls",
      "model_module_version": "1.5.0",
      "model_name": "IntProgressModel",
      "state": {
       "bar_style": "danger",
       "description": "  0%",
       "layout": "IPY_MODEL_8752763473cd43d39b6577403fd69fde",
       "max": 450,
       "style": "IPY_MODEL_93b69a38009046cd863bbb5de127b931"
      }
     },
     "3a0fc46d0dd34368af2c36c55d5e2291": {
      "model_module": "@jupyter-widgets/controls",
      "model_module_version": "1.5.0",
      "model_name": "DescriptionStyleModel",
      "state": {
       "description_width": ""
      }
     },
     "3a58f08e292240fead9dede31bcfd3e6": {
      "model_module": "@jupyter-widgets/controls",
      "model_module_version": "1.5.0",
      "model_name": "HTMLModel",
      "state": {
       "layout": "IPY_MODEL_d6226179d77942a6aff482330be34756",
       "style": "IPY_MODEL_5060229fef9c41289a3371381c2e4dbf",
       "value": " 108/3600 [10:13&lt;05:47, 10.04it/s]"
      }
     },
     "3b94692c88b84b839751aee8dbec8c71": {
      "model_module": "@jupyter-widgets/controls",
      "model_module_version": "1.5.0",
      "model_name": "HTMLModel",
      "state": {
       "layout": "IPY_MODEL_7c2e208dd2e548a58ac89dce0a31c999",
       "style": "IPY_MODEL_3a0fc46d0dd34368af2c36c55d5e2291",
       "value": " 35/450 [00:07&lt;01:18,  5.29it/s]"
      }
     },
     "3c75dd913d5b433691a164ec7bd75745": {
      "model_module": "@jupyter-widgets/controls",
      "model_module_version": "1.5.0",
      "model_name": "ProgressStyleModel",
      "state": {
       "description_width": "initial"
      }
     },
     "3d97cf20ac694ea5b3fe8ab98b6c74bb": {
      "model_module": "@jupyter-widgets/base",
      "model_module_version": "1.2.0",
      "model_name": "LayoutModel",
      "state": {}
     },
     "3ebef07e31e54cd885d330cb326a3d1a": {
      "model_module": "@jupyter-widgets/controls",
      "model_module_version": "1.5.0",
      "model_name": "ProgressStyleModel",
      "state": {
       "description_width": "initial"
      }
     },
     "3f8bee1f7afe455189caf9373db98c34": {
      "model_module": "@jupyter-widgets/controls",
      "model_module_version": "1.5.0",
      "model_name": "DescriptionStyleModel",
      "state": {
       "description_width": ""
      }
     },
     "40aafd756eb84ae488cd1dc74306a84f": {
      "model_module": "@jupyter-widgets/base",
      "model_module_version": "1.2.0",
      "model_name": "LayoutModel",
      "state": {}
     },
     "418e9dbe7b234d00a79a3a2690524240": {
      "model_module": "@jupyter-widgets/controls",
      "model_module_version": "1.5.0",
      "model_name": "HTMLModel",
      "state": {
       "layout": "IPY_MODEL_04794c65e7e34d0c970b5d2634d25fed",
       "style": "IPY_MODEL_6cd623efd34f40f2ad587d49a976de7f",
       "value": " 10000/10000 [09:22&lt;00:00, 17.76it/s]"
      }
     },
     "41c46deae30445e8ac320b0bdead3cb3": {
      "model_module": "@jupyter-widgets/controls",
      "model_module_version": "1.5.0",
      "model_name": "HTMLModel",
      "state": {
       "layout": "IPY_MODEL_7f001c79606c428bbb55efe2b60c7e59",
       "style": "IPY_MODEL_a3e6db405b7b4b31be6931cf10b848c1",
       "value": " 0/10 [10:13&lt;?, ?it/s]"
      }
     },
     "41f6d6bc2798470b85188098983450fc": {
      "model_module": "@jupyter-widgets/base",
      "model_module_version": "1.2.0",
      "model_name": "LayoutModel",
      "state": {}
     },
     "431bf4dc6be449798d008863a4f32a9d": {
      "model_module": "@jupyter-widgets/controls",
      "model_module_version": "1.5.0",
      "model_name": "DescriptionStyleModel",
      "state": {
       "description_width": ""
      }
     },
     "432656e3ea6341c1934027fc03f9b11a": {
      "model_module": "@jupyter-widgets/base",
      "model_module_version": "1.2.0",
      "model_name": "LayoutModel",
      "state": {}
     },
     "4331f140eb594d4ca9650e5eb4bbdf4f": {
      "model_module": "@jupyter-widgets/base",
      "model_module_version": "1.2.0",
      "model_name": "LayoutModel",
      "state": {}
     },
     "4345b68794804220a8a93ad161c6bc04": {
      "model_module": "@jupyter-widgets/controls",
      "model_module_version": "1.5.0",
      "model_name": "ProgressStyleModel",
      "state": {
       "description_width": "initial"
      }
     },
     "4451d8b5095943d58dc9bdbbaf5c3ab1": {
      "model_module": "@jupyter-widgets/controls",
      "model_module_version": "1.5.0",
      "model_name": "ProgressStyleModel",
      "state": {
       "description_width": "initial"
      }
     },
     "445ec63592db49d3a0047dc793d9f20f": {
      "model_module": "@jupyter-widgets/base",
      "model_module_version": "1.2.0",
      "model_name": "LayoutModel",
      "state": {}
     },
     "448d102f36e349238692222263acb843": {
      "model_module": "@jupyter-widgets/controls",
      "model_module_version": "1.5.0",
      "model_name": "IntProgressModel",
      "state": {
       "bar_style": "danger",
       "description": "  0%",
       "layout": "IPY_MODEL_382e922c071b4c449c935ec41ac04f78",
       "max": 10,
       "style": "IPY_MODEL_49b94b65e2a54b90b2b5dba7c061d3c3"
      }
     },
     "449d684c28ea42b4b78622a43fad4202": {
      "model_module": "@jupyter-widgets/base",
      "model_module_version": "1.2.0",
      "model_name": "LayoutModel",
      "state": {}
     },
     "45cb32dcbfdd47fc8f7d472a50de6867": {
      "model_module": "@jupyter-widgets/base",
      "model_module_version": "1.2.0",
      "model_name": "LayoutModel",
      "state": {}
     },
     "45d4f6c99a764c57aed028f49ebc3ac0": {
      "model_module": "@jupyter-widgets/controls",
      "model_module_version": "1.5.0",
      "model_name": "HTMLModel",
      "state": {
       "layout": "IPY_MODEL_f42727fe75ca4b8b992837278e05e608",
       "style": "IPY_MODEL_826de992949a4e49a978e46276332a09",
       "value": " 10000/10000 [01:44&lt;00:00, 95.76it/s]"
      }
     },
     "46d19af3f800483c955e21c21a25fb6d": {
      "model_module": "@jupyter-widgets/controls",
      "model_module_version": "1.5.0",
      "model_name": "HTMLModel",
      "state": {
       "layout": "IPY_MODEL_ccf71e9bcac84cad8bd9ca8b9718ffa9",
       "style": "IPY_MODEL_788e14c9356d463db016e44c2177cf16",
       "value": " 5/900 [25:37&lt;02:24,  6.19it/s]"
      }
     },
     "46fe1c6c3e9e4581af1b4c7a36bf0a95": {
      "model_module": "@jupyter-widgets/controls",
      "model_module_version": "1.5.0",
      "model_name": "HTMLModel",
      "state": {
       "layout": "IPY_MODEL_be88056d1cc4456c8f254d01916a1924",
       "style": "IPY_MODEL_66d20e166fae46da9240db5dbf34492d",
       "value": " 450/450 [01:35&lt;00:00,  5.46it/s]"
      }
     },
     "47c94857f75343ddbbf93c7f3cbe69c9": {
      "model_module": "@jupyter-widgets/controls",
      "model_module_version": "1.5.0",
      "model_name": "HBoxModel",
      "state": {
       "children": [
        "IPY_MODEL_33778f5cfb10421b9b4d9de34d4344eb",
        "IPY_MODEL_e60362605e194ef98707d77ec7762562"
       ],
       "layout": "IPY_MODEL_a3058ecf80934648a4f8546703852d44"
      }
     },
     "47ddf5202d01420d855511279f8ffe71": {
      "model_module": "@jupyter-widgets/controls",
      "model_module_version": "1.5.0",
      "model_name": "HTMLModel",
      "state": {
       "layout": "IPY_MODEL_cce129039085454faad807cb1768e833",
       "style": "IPY_MODEL_28a6bd6094724d1b996eafb98c26d9cb",
       "value": " 0/450 [04:58&lt;?, ?it/s]"
      }
     },
     "47e343dce9714153b9562fa1f4629bee": {
      "model_module": "@jupyter-widgets/base",
      "model_module_version": "1.2.0",
      "model_name": "LayoutModel",
      "state": {}
     },
     "47f3706aa98c4012922562885ecee3e2": {
      "model_module": "@jupyter-widgets/base",
      "model_module_version": "1.2.0",
      "model_name": "LayoutModel",
      "state": {}
     },
     "489a1adfe4c34f718a5cfbcc2fc6c3b1": {
      "model_module": "@jupyter-widgets/controls",
      "model_module_version": "1.5.0",
      "model_name": "HTMLModel",
      "state": {
       "layout": "IPY_MODEL_1d0139b5b9ea48efbb200f0c30565ac1",
       "style": "IPY_MODEL_b125ae43fe3f4c27a2dfc16c87ec57bd",
       "value": " 1/15 [27:53&lt;6:30:35, 1673.98s/it]"
      }
     },
     "48a2e2b9b1024b7d93eff0e3ceb8d493": {
      "model_module": "@jupyter-widgets/controls",
      "model_module_version": "1.5.0",
      "model_name": "ProgressStyleModel",
      "state": {
       "description_width": "initial"
      }
     },
     "4981fd9325454cc7a70a19876103f739": {
      "model_module": "@jupyter-widgets/base",
      "model_module_version": "1.2.0",
      "model_name": "LayoutModel",
      "state": {}
     },
     "49b94b65e2a54b90b2b5dba7c061d3c3": {
      "model_module": "@jupyter-widgets/controls",
      "model_module_version": "1.5.0",
      "model_name": "ProgressStyleModel",
      "state": {
       "description_width": "initial"
      }
     },
     "4a3866a86d884cf3970e25be3025ce0c": {
      "model_module": "@jupyter-widgets/controls",
      "model_module_version": "1.5.0",
      "model_name": "IntProgressModel",
      "state": {
       "bar_style": "danger",
       "description": "  0%",
       "layout": "IPY_MODEL_2a55fed9b102414c96d1a762b71db9ae",
       "max": 450,
       "style": "IPY_MODEL_7b164819812b4203a839f5aa56eef7a1"
      }
     },
     "4a93e730fab547c29f491d5e75ad12cf": {
      "model_module": "@jupyter-widgets/base",
      "model_module_version": "1.2.0",
      "model_name": "LayoutModel",
      "state": {}
     },
     "4acbfabbd42f49fe883c6e8c00a120f8": {
      "model_module": "@jupyter-widgets/controls",
      "model_module_version": "1.5.0",
      "model_name": "HTMLModel",
      "state": {
       "layout": "IPY_MODEL_6420a6182daf43709e52704edf914ada",
       "style": "IPY_MODEL_e86481896f164b8d9271b0a360e866fa",
       "value": " 10/10 [15:36&lt;00:00, 93.66s/it]"
      }
     },
     "4bc0eaf6a48446ba87df49aa2748fc45": {
      "model_module": "@jupyter-widgets/base",
      "model_module_version": "1.2.0",
      "model_name": "LayoutModel",
      "state": {}
     },
     "4c529b05afbf4244b99bc0accc9e637e": {
      "model_module": "@jupyter-widgets/controls",
      "model_module_version": "1.5.0",
      "model_name": "HTMLModel",
      "state": {
       "layout": "IPY_MODEL_5317f455357745c1a3b8d1df48479116",
       "style": "IPY_MODEL_e809ac2c4389418d99e803eab6f03fa9",
       "value": " 0/450 [04:58&lt;?, ?it/s]"
      }
     },
     "4cd711ee844747559ebe6934c972c326": {
      "model_module": "@jupyter-widgets/base",
      "model_module_version": "1.2.0",
      "model_name": "LayoutModel",
      "state": {}
     },
     "4e01add4b90e4787bb20c72ff4d8d055": {
      "model_module": "@jupyter-widgets/controls",
      "model_module_version": "1.5.0",
      "model_name": "HBoxModel",
      "state": {
       "children": [
        "IPY_MODEL_6367e91d620d4147879e43089d140614",
        "IPY_MODEL_21a5d63256c94e2089591e340a699f05"
       ],
       "layout": "IPY_MODEL_ecfb9c84cde34048a50ffed5a6a624cd"
      }
     },
     "4ea0897f28b34d8e9d0b72ed8cbcbff0": {
      "model_module": "@jupyter-widgets/controls",
      "model_module_version": "1.5.0",
      "model_name": "ProgressStyleModel",
      "state": {
       "description_width": "initial"
      }
     },
     "5060229fef9c41289a3371381c2e4dbf": {
      "model_module": "@jupyter-widgets/controls",
      "model_module_version": "1.5.0",
      "model_name": "DescriptionStyleModel",
      "state": {
       "description_width": ""
      }
     },
     "5111ee96372b4560ab4e71ae07d4da8f": {
      "model_module": "@jupyter-widgets/controls",
      "model_module_version": "1.5.0",
      "model_name": "HBoxModel",
      "state": {
       "children": [
        "IPY_MODEL_5fc3a52be4d740e383d2685a81e8a118",
        "IPY_MODEL_37512a810a404b9abc1b782a6ff4636f"
       ],
       "layout": "IPY_MODEL_97de0a8704654aa0bd900a65f540f564"
      }
     },
     "513a4fb0761c4470b590da66ffa9914d": {
      "model_module": "@jupyter-widgets/controls",
      "model_module_version": "1.5.0",
      "model_name": "HTMLModel",
      "state": {
       "layout": "IPY_MODEL_e21f23c4faee477aaa1385795c92a344",
       "style": "IPY_MODEL_d07398515aab4be094dd172934fd9aae",
       "value": " 0/15 [28:29&lt;?, ?it/s]"
      }
     },
     "5157d399fcfa47f782e8a80604e960ee": {
      "model_module": "@jupyter-widgets/controls",
      "model_module_version": "1.5.0",
      "model_name": "IntProgressModel",
      "state": {
       "bar_style": "danger",
       "description": "  0%",
       "layout": "IPY_MODEL_1f40f04d963d44298a4b319adb0d990a",
       "max": 10,
       "style": "IPY_MODEL_10f35d1faea84dfab4961f30ffc487ec"
      }
     },
     "52324307f8d24a2da69e9b216696cb19": {
      "model_module": "@jupyter-widgets/base",
      "model_module_version": "1.2.0",
      "model_name": "LayoutModel",
      "state": {}
     },
     "52553cb953034e4c805367ce86ef82d0": {
      "model_module": "@jupyter-widgets/base",
      "model_module_version": "1.2.0",
      "model_name": "LayoutModel",
      "state": {}
     },
     "52778ada89d0469d802677ca7a8f939b": {
      "model_module": "@jupyter-widgets/controls",
      "model_module_version": "1.5.0",
      "model_name": "HTMLModel",
      "state": {
       "layout": "IPY_MODEL_217f52c7a4ba458d99cfac5b1504c17a",
       "style": "IPY_MODEL_dc24558b901b4752a0eef76df310ad10",
       "value": " 10000/10000 [08:37&lt;00:00, 19.33it/s]"
      }
     },
     "5317f455357745c1a3b8d1df48479116": {
      "model_module": "@jupyter-widgets/base",
      "model_module_version": "1.2.0",
      "model_name": "LayoutModel",
      "state": {}
     },
     "5388a0729dc448798790a4f90c194ee0": {
      "model_module": "@jupyter-widgets/controls",
      "model_module_version": "1.5.0",
      "model_name": "IntProgressModel",
      "state": {
       "description": "100%",
       "layout": "IPY_MODEL_759bd9540ad24810b36b5496ebadbf60",
       "max": 450,
       "style": "IPY_MODEL_93d4ca874c5c40a6b5a68931711e1f4f",
       "value": 450
      }
     },
     "538ce191debd421dbf4a8745066e43e9": {
      "model_module": "@jupyter-widgets/base",
      "model_module_version": "1.2.0",
      "model_name": "LayoutModel",
      "state": {}
     },
     "53c077312a4c4b2fb74d6b126e413010": {
      "model_module": "@jupyter-widgets/controls",
      "model_module_version": "1.5.0",
      "model_name": "HTMLModel",
      "state": {
       "layout": "IPY_MODEL_f10cd0e132f448e6acbff850816437f9",
       "style": "IPY_MODEL_f511e911a467489cbabcd979f75fc4aa",
       "value": " 0/450 [04:58&lt;?, ?it/s]"
      }
     },
     "54d2f922dcde496b85db285c610844c3": {
      "model_module": "@jupyter-widgets/controls",
      "model_module_version": "1.5.0",
      "model_name": "IntProgressModel",
      "state": {
       "bar_style": "danger",
       "description": "  0%",
       "layout": "IPY_MODEL_eecabb23e97643b2b258f396e317f7a8",
       "max": 450,
       "style": "IPY_MODEL_4ea0897f28b34d8e9d0b72ed8cbcbff0"
      }
     },
     "550ed34fc29f46ae87d1d5e8021bfd57": {
      "model_module": "@jupyter-widgets/controls",
      "model_module_version": "1.5.0",
      "model_name": "DescriptionStyleModel",
      "state": {
       "description_width": ""
      }
     },
     "55584509b3934cd19064f4f5b2dc2872": {
      "model_module": "@jupyter-widgets/controls",
      "model_module_version": "1.5.0",
      "model_name": "DescriptionStyleModel",
      "state": {
       "description_width": ""
      }
     },
     "55f2475632d244f7a5cf7a21677fafbf": {
      "model_module": "@jupyter-widgets/controls",
      "model_module_version": "1.5.0",
      "model_name": "HBoxModel",
      "state": {
       "children": [
        "IPY_MODEL_37e5feff5eb043c9be4541b556e65ab9",
        "IPY_MODEL_4acbfabbd42f49fe883c6e8c00a120f8"
       ],
       "layout": "IPY_MODEL_432656e3ea6341c1934027fc03f9b11a"
      }
     },
     "56080f15f4914a3693df9025658cae8f": {
      "model_module": "@jupyter-widgets/controls",
      "model_module_version": "1.5.0",
      "model_name": "DescriptionStyleModel",
      "state": {
       "description_width": ""
      }
     },
     "56d497a2ee79471490260017c24c3295": {
      "model_module": "@jupyter-widgets/controls",
      "model_module_version": "1.5.0",
      "model_name": "IntProgressModel",
      "state": {
       "bar_style": "danger",
       "description": "  2%",
       "layout": "IPY_MODEL_84008f50393a40d0a9f671e2a21ee380",
       "max": 3600,
       "style": "IPY_MODEL_063b4855e0604cd9b22d1bbc7126c349",
       "value": 79
      }
     },
     "57935c1710a948d0876d0f4252e509a9": {
      "model_module": "@jupyter-widgets/base",
      "model_module_version": "1.2.0",
      "model_name": "LayoutModel",
      "state": {}
     },
     "5915a426ce8d41dfb09d9b1b8253b76e": {
      "model_module": "@jupyter-widgets/base",
      "model_module_version": "1.2.0",
      "model_name": "LayoutModel",
      "state": {}
     },
     "5921cc265d4d482299f668b3edb2aba9": {
      "model_module": "@jupyter-widgets/controls",
      "model_module_version": "1.5.0",
      "model_name": "HBoxModel",
      "state": {
       "children": [
        "IPY_MODEL_c893591ce33b4dffa2f930c64ff1fad9",
        "IPY_MODEL_735797272d864648b8c6b9f7c783d743"
       ],
       "layout": "IPY_MODEL_6e4a6f3f4527493da1ddf22bb76fee42"
      }
     },
     "59d45561126d4f6d99f37ec8cf9e0005": {
      "model_module": "@jupyter-widgets/controls",
      "model_module_version": "1.5.0",
      "model_name": "HBoxModel",
      "state": {
       "children": [
        "IPY_MODEL_5caf7b463e7d429d8c7ae05ac44bd771",
        "IPY_MODEL_46d19af3f800483c955e21c21a25fb6d"
       ],
       "layout": "IPY_MODEL_538ce191debd421dbf4a8745066e43e9"
      }
     },
     "5a3c7a8c04794e01babe323f1d855fff": {
      "model_module": "@jupyter-widgets/base",
      "model_module_version": "1.2.0",
      "model_name": "LayoutModel",
      "state": {}
     },
     "5a4ce7dc36754c2fbf34165895075e7a": {
      "model_module": "@jupyter-widgets/base",
      "model_module_version": "1.2.0",
      "model_name": "LayoutModel",
      "state": {}
     },
     "5a61ed98650b43c8a3ad590308ef2b97": {
      "model_module": "@jupyter-widgets/base",
      "model_module_version": "1.2.0",
      "model_name": "LayoutModel",
      "state": {}
     },
     "5adc33af20a64cb38917da78805d8461": {
      "model_module": "@jupyter-widgets/base",
      "model_module_version": "1.2.0",
      "model_name": "LayoutModel",
      "state": {}
     },
     "5caf7b463e7d429d8c7ae05ac44bd771": {
      "model_module": "@jupyter-widgets/controls",
      "model_module_version": "1.5.0",
      "model_name": "IntProgressModel",
      "state": {
       "bar_style": "danger",
       "description": "  1%",
       "layout": "IPY_MODEL_67e2c80d7e3c46878b4540f96af965e3",
       "max": 900,
       "style": "IPY_MODEL_66a7ef95bb9b4690afa0db9f27abd126",
       "value": 5
      }
     },
     "5d3ba0ff83d245089912c5a5999a5721": {
      "model_module": "@jupyter-widgets/controls",
      "model_module_version": "1.5.0",
      "model_name": "HTMLModel",
      "state": {
       "layout": "IPY_MODEL_c2942c9b823a46139f24508c2a0f460f",
       "style": "IPY_MODEL_d72d068f901d40e791aac1e11fd4ce00",
       "value": " 0/? [05:27&lt;?, ?it/s]"
      }
     },
     "5f174e6aca6c48879100e03808ba9bea": {
      "model_module": "@jupyter-widgets/base",
      "model_module_version": "1.2.0",
      "model_name": "LayoutModel",
      "state": {}
     },
     "5f1db8928ed34625ab4fa0215fc08a9f": {
      "model_module": "@jupyter-widgets/controls",
      "model_module_version": "1.5.0",
      "model_name": "IntProgressModel",
      "state": {
       "bar_style": "danger",
       "description": "  0%",
       "layout": "IPY_MODEL_41f6d6bc2798470b85188098983450fc",
       "max": 10,
       "style": "IPY_MODEL_6680529380f64275ba80ff4b948d6f95"
      }
     },
     "5fc3a52be4d740e383d2685a81e8a118": {
      "model_module": "@jupyter-widgets/controls",
      "model_module_version": "1.5.0",
      "model_name": "IntProgressModel",
      "state": {
       "bar_style": "danger",
       "description": "  0%",
       "layout": "IPY_MODEL_38c53ca54d614368992c81b31a406c77",
       "max": 450,
       "style": "IPY_MODEL_75d14dd5739040f3b1fd335ca3af41a8"
      }
     },
     "5fc9a9c175c44a67a581b2eeabfc2680": {
      "model_module": "@jupyter-widgets/controls",
      "model_module_version": "1.5.0",
      "model_name": "HBoxModel",
      "state": {
       "children": [
        "IPY_MODEL_76f3fc35c9b34e86bafda4c6f0f97133",
        "IPY_MODEL_285ffc291e0d4fa2b88cc03afa8350b5"
       ],
       "layout": "IPY_MODEL_de811c0de185473c9a2a252e8cc8f889"
      }
     },
     "5fcfe114c90242b7b407c8fb22aedc60": {
      "model_module": "@jupyter-widgets/base",
      "model_module_version": "1.2.0",
      "model_name": "LayoutModel",
      "state": {}
     },
     "60db68f17a824af1b420378851f17322": {
      "model_module": "@jupyter-widgets/base",
      "model_module_version": "1.2.0",
      "model_name": "LayoutModel",
      "state": {}
     },
     "61ee42411e5a4b3298df89f2c1a37677": {
      "model_module": "@jupyter-widgets/base",
      "model_module_version": "1.2.0",
      "model_name": "LayoutModel",
      "state": {}
     },
     "62e4afc0fe874400b43a90c55ebf908f": {
      "model_module": "@jupyter-widgets/base",
      "model_module_version": "1.2.0",
      "model_name": "LayoutModel",
      "state": {}
     },
     "6367e91d620d4147879e43089d140614": {
      "model_module": "@jupyter-widgets/controls",
      "model_module_version": "1.5.0",
      "model_name": "IntProgressModel",
      "state": {
       "bar_style": "danger",
       "description": "  0%",
       "layout": "IPY_MODEL_4cd711ee844747559ebe6934c972c326",
       "max": 10,
       "style": "IPY_MODEL_e7e2098682454de897130ef4a94050b4"
      }
     },
     "63ff39b4a4274cfb907a17d5f0b0c62c": {
      "model_module": "@jupyter-widgets/controls",
      "model_module_version": "1.5.0",
      "model_name": "IntProgressModel",
      "state": {
       "bar_style": "info",
       "layout": "IPY_MODEL_8af86049bbcd41869de7188b5aa1829b",
       "max": 1,
       "style": "IPY_MODEL_1de0e20fb4cd40278dad320ebd90512e"
      }
     },
     "6420a6182daf43709e52704edf914ada": {
      "model_module": "@jupyter-widgets/base",
      "model_module_version": "1.2.0",
      "model_name": "LayoutModel",
      "state": {}
     },
     "6498e959873c4316b71dcee6c1c1f7ee": {
      "model_module": "@jupyter-widgets/controls",
      "model_module_version": "1.5.0",
      "model_name": "IntProgressModel",
      "state": {
       "description": "  0%",
       "layout": "IPY_MODEL_abd6d27e3beb48d78e35e9adfb196419",
       "max": 450,
       "style": "IPY_MODEL_e2b96cb68bc1413b86fd10815f58094e"
      }
     },
     "64b907687c434b1b8a54599fa0ad9dea": {
      "model_module": "@jupyter-widgets/base",
      "model_module_version": "1.2.0",
      "model_name": "LayoutModel",
      "state": {}
     },
     "64ff18cfaa3246339cbdaf9246230b9a": {
      "model_module": "@jupyter-widgets/controls",
      "model_module_version": "1.5.0",
      "model_name": "HBoxModel",
      "state": {
       "children": [
        "IPY_MODEL_30b135b593d3474faa33b63da61aa4f8",
        "IPY_MODEL_53c077312a4c4b2fb74d6b126e413010"
       ],
       "layout": "IPY_MODEL_0d07ce4c44454963b7b826af87952bf9"
      }
     },
     "6625bdfef45f4d94b562916ef80c56a9": {
      "model_module": "@jupyter-widgets/controls",
      "model_module_version": "1.5.0",
      "model_name": "DescriptionStyleModel",
      "state": {
       "description_width": ""
      }
     },
     "664426bbb62842fab1dd46268602e826": {
      "model_module": "@jupyter-widgets/base",
      "model_module_version": "1.2.0",
      "model_name": "LayoutModel",
      "state": {}
     },
     "6680529380f64275ba80ff4b948d6f95": {
      "model_module": "@jupyter-widgets/controls",
      "model_module_version": "1.5.0",
      "model_name": "ProgressStyleModel",
      "state": {
       "description_width": "initial"
      }
     },
     "66a7ef95bb9b4690afa0db9f27abd126": {
      "model_module": "@jupyter-widgets/controls",
      "model_module_version": "1.5.0",
      "model_name": "ProgressStyleModel",
      "state": {
       "description_width": "initial"
      }
     },
     "66ab421ddec848a78601cbcc54db11c3": {
      "model_module": "@jupyter-widgets/controls",
      "model_module_version": "1.5.0",
      "model_name": "DescriptionStyleModel",
      "state": {
       "description_width": ""
      }
     },
     "66d20e166fae46da9240db5dbf34492d": {
      "model_module": "@jupyter-widgets/controls",
      "model_module_version": "1.5.0",
      "model_name": "DescriptionStyleModel",
      "state": {
       "description_width": ""
      }
     },
     "66e3588f80c14ec1b8184ac04f798b81": {
      "model_module": "@jupyter-widgets/controls",
      "model_module_version": "1.5.0",
      "model_name": "HBoxModel",
      "state": {
       "children": [
        "IPY_MODEL_9a53a371c4554033b387e6d13d78029a",
        "IPY_MODEL_0ac8ca67a6b14d65a8a4a46effe74069"
       ],
       "layout": "IPY_MODEL_bff96863b23f4ab7ad5eeca6cb6dfe36"
      }
     },
     "670eb33f385a4f61862793e630d74370": {
      "model_module": "@jupyter-widgets/base",
      "model_module_version": "1.2.0",
      "model_name": "LayoutModel",
      "state": {}
     },
     "67e2c80d7e3c46878b4540f96af965e3": {
      "model_module": "@jupyter-widgets/base",
      "model_module_version": "1.2.0",
      "model_name": "LayoutModel",
      "state": {}
     },
     "69c42bef2ec24b6f96a95f27a52fe050": {
      "model_module": "@jupyter-widgets/controls",
      "model_module_version": "1.5.0",
      "model_name": "DescriptionStyleModel",
      "state": {
       "description_width": ""
      }
     },
     "6b47e752f0e641ecbbfcec69d7b6088a": {
      "model_module": "@jupyter-widgets/controls",
      "model_module_version": "1.5.0",
      "model_name": "HTMLModel",
      "state": {
       "layout": "IPY_MODEL_1ed8941668a149fc80f8e472a95f961e",
       "style": "IPY_MODEL_ae4ab31262784ea6a3e25043db0378ef",
       "value": " 450/450 [01:33&lt;00:00,  4.56it/s]"
      }
     },
     "6b683b00d7b746eda38eb49353e2e0b7": {
      "model_module": "@jupyter-widgets/controls",
      "model_module_version": "1.5.0",
      "model_name": "IntProgressModel",
      "state": {
       "bar_style": "danger",
       "description": "  0%",
       "layout": "IPY_MODEL_a835e03c6a9041a5be1a783907f2071e",
       "max": 450,
       "style": "IPY_MODEL_11fbf52f5c754634a1785416f02e1389"
      }
     },
     "6bac4c7c43bb43509e04e2105166bf6c": {
      "model_module": "@jupyter-widgets/base",
      "model_module_version": "1.2.0",
      "model_name": "LayoutModel",
      "state": {}
     },
     "6c30c1081b734cb08e128b9e6adfee22": {
      "model_module": "@jupyter-widgets/controls",
      "model_module_version": "1.5.0",
      "model_name": "IntProgressModel",
      "state": {
       "description": "100%",
       "layout": "IPY_MODEL_cebe1efa228345a09aa6d910d520d08f",
       "max": 450,
       "style": "IPY_MODEL_c46cd4ea6f6a4c89b0105da34b6d3179",
       "value": 450
      }
     },
     "6c415b0f33e74434b3166043465bc8ee": {
      "model_module": "@jupyter-widgets/base",
      "model_module_version": "1.2.0",
      "model_name": "LayoutModel",
      "state": {}
     },
     "6cd623efd34f40f2ad587d49a976de7f": {
      "model_module": "@jupyter-widgets/controls",
      "model_module_version": "1.5.0",
      "model_name": "DescriptionStyleModel",
      "state": {
       "description_width": ""
      }
     },
     "6d08bf941f384996a0e05b20e0fc8c66": {
      "model_module": "@jupyter-widgets/base",
      "model_module_version": "1.2.0",
      "model_name": "LayoutModel",
      "state": {}
     },
     "6d92e02e51f04b86b753ffb48196abe3": {
      "model_module": "@jupyter-widgets/base",
      "model_module_version": "1.2.0",
      "model_name": "LayoutModel",
      "state": {}
     },
     "6da13bea05b4444a98822f24981537d3": {
      "model_module": "@jupyter-widgets/controls",
      "model_module_version": "1.5.0",
      "model_name": "HBoxModel",
      "state": {
       "children": [
        "IPY_MODEL_eda9d24309304fe8bb5ad08fc886f068",
        "IPY_MODEL_d19b73512fa24cb48d48a9ef34b0ab0f"
       ],
       "layout": "IPY_MODEL_c03b6c52fc1f418bbd13f74f8dd7e210"
      }
     },
     "6de1a9802b16448ca18fb7463ebba05d": {
      "model_module": "@jupyter-widgets/controls",
      "model_module_version": "1.5.0",
      "model_name": "DescriptionStyleModel",
      "state": {
       "description_width": ""
      }
     },
     "6e2a82342bf14cce826d61af66c94930": {
      "model_module": "@jupyter-widgets/controls",
      "model_module_version": "1.5.0",
      "model_name": "DescriptionStyleModel",
      "state": {
       "description_width": ""
      }
     },
     "6e4a6f3f4527493da1ddf22bb76fee42": {
      "model_module": "@jupyter-widgets/base",
      "model_module_version": "1.2.0",
      "model_name": "LayoutModel",
      "state": {}
     },
     "6e546b87a3f74758b9642c4a7e2f26bf": {
      "model_module": "@jupyter-widgets/controls",
      "model_module_version": "1.5.0",
      "model_name": "ProgressStyleModel",
      "state": {
       "description_width": "initial"
      }
     },
     "6e660c989c9f4bc68be469380a3b1106": {
      "model_module": "@jupyter-widgets/base",
      "model_module_version": "1.2.0",
      "model_name": "LayoutModel",
      "state": {}
     },
     "6e74f1e311404bb792231e97e8cf3aeb": {
      "model_module": "@jupyter-widgets/controls",
      "model_module_version": "1.5.0",
      "model_name": "ProgressStyleModel",
      "state": {
       "description_width": "initial"
      }
     },
     "6f1430a084f34060a074b9d05ae36ad8": {
      "model_module": "@jupyter-widgets/base",
      "model_module_version": "1.2.0",
      "model_name": "LayoutModel",
      "state": {}
     },
     "71d471bfaac149a5a93000a1a962b698": {
      "model_module": "@jupyter-widgets/controls",
      "model_module_version": "1.5.0",
      "model_name": "IntProgressModel",
      "state": {
       "bar_style": "danger",
       "description": "  3%",
       "layout": "IPY_MODEL_78443d32e1414dac8de3da0a9499cfc9",
       "max": 3600,
       "style": "IPY_MODEL_e53d7197057b4685a236c59991e4d6a9",
       "value": 108
      }
     },
     "735797272d864648b8c6b9f7c783d743": {
      "model_module": "@jupyter-widgets/controls",
      "model_module_version": "1.5.0",
      "model_name": "HTMLModel",
      "state": {
       "layout": "IPY_MODEL_74260bb83eec4cdcb43fa246e71163e0",
       "style": "IPY_MODEL_55584509b3934cd19064f4f5b2dc2872",
       "value": " 89/900 [00:13&lt;02:07,  6.35it/s]"
      }
     },
     "7385a4892cce4f3e8bcda9138fa50cf0": {
      "model_module": "@jupyter-widgets/controls",
      "model_module_version": "1.5.0",
      "model_name": "DescriptionStyleModel",
      "state": {
       "description_width": ""
      }
     },
     "74260bb83eec4cdcb43fa246e71163e0": {
      "model_module": "@jupyter-widgets/base",
      "model_module_version": "1.2.0",
      "model_name": "LayoutModel",
      "state": {}
     },
     "743e23dea3174bd8b211326c2fc7bca1": {
      "model_module": "@jupyter-widgets/controls",
      "model_module_version": "1.5.0",
      "model_name": "IntProgressModel",
      "state": {
       "bar_style": "danger",
       "description": "  0%",
       "layout": "IPY_MODEL_325e198cddd64321bc34364bd70e2a8c",
       "max": 450,
       "style": "IPY_MODEL_d2ad1114c2b6408ba3ad3bfd0ecf9e44"
      }
     },
     "74b317803f0f4012afac25b974e34546": {
      "model_module": "@jupyter-widgets/base",
      "model_module_version": "1.2.0",
      "model_name": "LayoutModel",
      "state": {}
     },
     "750c4743d9264b5382ed09ced83da9af": {
      "model_module": "@jupyter-widgets/controls",
      "model_module_version": "1.5.0",
      "model_name": "DescriptionStyleModel",
      "state": {
       "description_width": ""
      }
     },
     "75797101bfeb47b4a5ae109aed19edff": {
      "model_module": "@jupyter-widgets/controls",
      "model_module_version": "1.5.0",
      "model_name": "HTMLModel",
      "state": {
       "layout": "IPY_MODEL_02aa7f66686b4ecc9830e22e0f6a8948",
       "style": "IPY_MODEL_7655865f9224431e947784724de55a3e",
       "value": " 0/450 [04:58&lt;?, ?it/s]"
      }
     },
     "759bd9540ad24810b36b5496ebadbf60": {
      "model_module": "@jupyter-widgets/base",
      "model_module_version": "1.2.0",
      "model_name": "LayoutModel",
      "state": {}
     },
     "75d14dd5739040f3b1fd335ca3af41a8": {
      "model_module": "@jupyter-widgets/controls",
      "model_module_version": "1.5.0",
      "model_name": "ProgressStyleModel",
      "state": {
       "description_width": "initial"
      }
     },
     "76362763be1e4dcf9717e2716be5843d": {
      "model_module": "@jupyter-widgets/controls",
      "model_module_version": "1.5.0",
      "model_name": "ProgressStyleModel",
      "state": {
       "description_width": "initial"
      }
     },
     "7655865f9224431e947784724de55a3e": {
      "model_module": "@jupyter-widgets/controls",
      "model_module_version": "1.5.0",
      "model_name": "DescriptionStyleModel",
      "state": {
       "description_width": ""
      }
     },
     "76f3fc35c9b34e86bafda4c6f0f97133": {
      "model_module": "@jupyter-widgets/controls",
      "model_module_version": "1.5.0",
      "model_name": "IntProgressModel",
      "state": {
       "bar_style": "danger",
       "description": "  0%",
       "layout": "IPY_MODEL_2f054804362043268df24c1291e50785",
       "max": 450,
       "style": "IPY_MODEL_d78ffe5993ac44bdb61f4189a6253d3d"
      }
     },
     "78443d32e1414dac8de3da0a9499cfc9": {
      "model_module": "@jupyter-widgets/base",
      "model_module_version": "1.2.0",
      "model_name": "LayoutModel",
      "state": {}
     },
     "78502744ffb0485bb1a4860330f0860c": {
      "model_module": "@jupyter-widgets/controls",
      "model_module_version": "1.5.0",
      "model_name": "HBoxModel",
      "state": {
       "children": [
        "IPY_MODEL_b428ddd54744486eb6f31dfb520f1850",
        "IPY_MODEL_3b94692c88b84b839751aee8dbec8c71"
       ],
       "layout": "IPY_MODEL_a933bff30af64b4782038b55129a3d8f"
      }
     },
     "788e14c9356d463db016e44c2177cf16": {
      "model_module": "@jupyter-widgets/controls",
      "model_module_version": "1.5.0",
      "model_name": "DescriptionStyleModel",
      "state": {
       "description_width": ""
      }
     },
     "7916c1d91d2a44cd8d5d76be8e261cb8": {
      "model_module": "@jupyter-widgets/controls",
      "model_module_version": "1.5.0",
      "model_name": "HTMLModel",
      "state": {
       "layout": "IPY_MODEL_4331f140eb594d4ca9650e5eb4bbdf4f",
       "style": "IPY_MODEL_1794143be8464b2cb9b97c0dbf1e5510",
       "value": " 1/10 [02:57&lt;26:36, 177.39s/it]"
      }
     },
     "79dc21b3171f40b193f7a608c6310679": {
      "model_module": "@jupyter-widgets/controls",
      "model_module_version": "1.5.0",
      "model_name": "HBoxModel",
      "state": {
       "children": [
        "IPY_MODEL_09205804a7f74b479088e317442afd86",
        "IPY_MODEL_24e1a8e415ba4ceb8fbdd79fe778ed3c"
       ],
       "layout": "IPY_MODEL_5adc33af20a64cb38917da78805d8461"
      }
     },
     "7a80837104a946b2828e0958f6110076": {
      "model_module": "@jupyter-widgets/controls",
      "model_module_version": "1.5.0",
      "model_name": "HTMLModel",
      "state": {
       "layout": "IPY_MODEL_fecc34ae890849a99af222577077417c",
       "style": "IPY_MODEL_f7ba24b0e34f4bc9ae657c088e1213d4",
       "value": " 0/? [05:36&lt;?, ?it/s]"
      }
     },
     "7aa230ec834c4b2c9d403ae71e6e9729": {
      "model_module": "@jupyter-widgets/controls",
      "model_module_version": "1.5.0",
      "model_name": "HBoxModel",
      "state": {
       "children": [
        "IPY_MODEL_cc4d679128db44fe81f014b92c958613",
        "IPY_MODEL_372c7a9c0105416180f0558d758570f0"
       ],
       "layout": "IPY_MODEL_20350fac389d4804b0f0f988e91c7151"
      }
     },
     "7b0d4f6387c34716a8968da346c9be21": {
      "model_module": "@jupyter-widgets/controls",
      "model_module_version": "1.5.0",
      "model_name": "IntProgressModel",
      "state": {
       "bar_style": "danger",
       "description": "  0%",
       "layout": "IPY_MODEL_1d4aacfbceb744749c365c54e157c248",
       "max": 15,
       "style": "IPY_MODEL_8fa3d1a6e27e45df84f7b3b1a9a51cfc"
      }
     },
     "7b164819812b4203a839f5aa56eef7a1": {
      "model_module": "@jupyter-widgets/controls",
      "model_module_version": "1.5.0",
      "model_name": "ProgressStyleModel",
      "state": {
       "description_width": "initial"
      }
     },
     "7bb9014aff3a449491fb5256d9702896": {
      "model_module": "@jupyter-widgets/base",
      "model_module_version": "1.2.0",
      "model_name": "LayoutModel",
      "state": {}
     },
     "7c2e208dd2e548a58ac89dce0a31c999": {
      "model_module": "@jupyter-widgets/base",
      "model_module_version": "1.2.0",
      "model_name": "LayoutModel",
      "state": {}
     },
     "7c6c88aef25149d48ceec1b22deee735": {
      "model_module": "@jupyter-widgets/controls",
      "model_module_version": "1.5.0",
      "model_name": "ProgressStyleModel",
      "state": {
       "description_width": "initial"
      }
     },
     "7d59e093a618429da9c16700cd5d475d": {
      "model_module": "@jupyter-widgets/controls",
      "model_module_version": "1.5.0",
      "model_name": "ProgressStyleModel",
      "state": {
       "description_width": "initial"
      }
     },
     "7e69d2c74ab04545a32504dc895ef5dc": {
      "model_module": "@jupyter-widgets/controls",
      "model_module_version": "1.5.0",
      "model_name": "IntProgressModel",
      "state": {
       "bar_style": "success",
       "description": "100%",
       "layout": "IPY_MODEL_19751064837a4bbc9f3ebf99b3e3e753",
       "max": 2400,
       "style": "IPY_MODEL_17cc1d36963a4ecf8134b7ddbe70db15",
       "value": 2400
      }
     },
     "7f001c79606c428bbb55efe2b60c7e59": {
      "model_module": "@jupyter-widgets/base",
      "model_module_version": "1.2.0",
      "model_name": "LayoutModel",
      "state": {}
     },
     "801e42d3f7974f4382085f10aaadae51": {
      "model_module": "@jupyter-widgets/base",
      "model_module_version": "1.2.0",
      "model_name": "LayoutModel",
      "state": {}
     },
     "8180809491c6483cbd9ae92d52663fe1": {
      "model_module": "@jupyter-widgets/base",
      "model_module_version": "1.2.0",
      "model_name": "LayoutModel",
      "state": {}
     },
     "826de992949a4e49a978e46276332a09": {
      "model_module": "@jupyter-widgets/controls",
      "model_module_version": "1.5.0",
      "model_name": "DescriptionStyleModel",
      "state": {
       "description_width": ""
      }
     },
     "836f066c67494d33b5bf8d99da6d53f1": {
      "model_module": "@jupyter-widgets/controls",
      "model_module_version": "1.5.0",
      "model_name": "IntProgressModel",
      "state": {
       "bar_style": "danger",
       "description": "  0%",
       "layout": "IPY_MODEL_2b675c284b884bffb826dfe486d930f2",
       "max": 10,
       "style": "IPY_MODEL_3c75dd913d5b433691a164ec7bd75745"
      }
     },
     "83ae465b699c43a287014e7db7ba0470": {
      "model_module": "@jupyter-widgets/controls",
      "model_module_version": "1.5.0",
      "model_name": "ProgressStyleModel",
      "state": {
       "description_width": "initial"
      }
     },
     "84008f50393a40d0a9f671e2a21ee380": {
      "model_module": "@jupyter-widgets/base",
      "model_module_version": "1.2.0",
      "model_name": "LayoutModel",
      "state": {}
     },
     "843e24ef70f0436eafa3293ab24c95e5": {
      "model_module": "@jupyter-widgets/controls",
      "model_module_version": "1.5.0",
      "model_name": "IntProgressModel",
      "state": {
       "bar_style": "danger",
       "description": "  0%",
       "layout": "IPY_MODEL_feb1d800ebff41238c3f5ddff48c346c",
       "max": 10,
       "style": "IPY_MODEL_f0160cbfdaee44a3954976c26a5ac182"
      }
     },
     "84d4df37c61249b29115de98cc529bd7": {
      "model_module": "@jupyter-widgets/base",
      "model_module_version": "1.2.0",
      "model_name": "LayoutModel",
      "state": {}
     },
     "85877f4e332c40e6b9fd30c0896561e7": {
      "model_module": "@jupyter-widgets/base",
      "model_module_version": "1.2.0",
      "model_name": "LayoutModel",
      "state": {}
     },
     "85f06bf73bf649bb94158da2a9414913": {
      "model_module": "@jupyter-widgets/base",
      "model_module_version": "1.2.0",
      "model_name": "LayoutModel",
      "state": {}
     },
     "86fc820f665f48e88bf19158cba420a3": {
      "model_module": "@jupyter-widgets/controls",
      "model_module_version": "1.5.0",
      "model_name": "ProgressStyleModel",
      "state": {
       "description_width": "initial"
      }
     },
     "8752763473cd43d39b6577403fd69fde": {
      "model_module": "@jupyter-widgets/base",
      "model_module_version": "1.2.0",
      "model_name": "LayoutModel",
      "state": {}
     },
     "87f9bc0f2cf7449baf6db3fdce7a56b4": {
      "model_module": "@jupyter-widgets/controls",
      "model_module_version": "1.5.0",
      "model_name": "HBoxModel",
      "state": {
       "children": [
        "IPY_MODEL_13fa0aa9baa043ee8043722355a2f4a8",
        "IPY_MODEL_45d4f6c99a764c57aed028f49ebc3ac0"
       ],
       "layout": "IPY_MODEL_ef4887265c204a44b429592c72f99729"
      }
     },
     "87fef63a5b774562a62e00a1bc05585c": {
      "model_module": "@jupyter-widgets/base",
      "model_module_version": "1.2.0",
      "model_name": "LayoutModel",
      "state": {}
     },
     "88f0e7e026e14988b82bed92ca7ea18d": {
      "model_module": "@jupyter-widgets/controls",
      "model_module_version": "1.5.0",
      "model_name": "DescriptionStyleModel",
      "state": {
       "description_width": ""
      }
     },
     "8900570a5499461a9050e47f24f3b43d": {
      "model_module": "@jupyter-widgets/controls",
      "model_module_version": "1.5.0",
      "model_name": "HTMLModel",
      "state": {
       "layout": "IPY_MODEL_74b317803f0f4012afac25b974e34546",
       "style": "IPY_MODEL_240b45081db349df924e714418c8bdb3",
       "value": " 2400/2400 [00:47&lt;00:00, 50.34it/s]"
      }
     },
     "890c21d533204ab19f614326fa86d3a1": {
      "model_module": "@jupyter-widgets/base",
      "model_module_version": "1.2.0",
      "model_name": "LayoutModel",
      "state": {}
     },
     "89652d854d7a456584d3b581173c1b18": {
      "model_module": "@jupyter-widgets/controls",
      "model_module_version": "1.5.0",
      "model_name": "HTMLModel",
      "state": {
       "layout": "IPY_MODEL_8eed722f1b7c4bc89a56922181d0c058",
       "style": "IPY_MODEL_0b4e1697ae064ad4956a3f3401b9a5ee",
       "value": " 450/450 [01:33&lt;00:00,  4.47it/s]"
      }
     },
     "8a377ac654e44c2b8a7f20e055b99abe": {
      "model_module": "@jupyter-widgets/controls",
      "model_module_version": "1.5.0",
      "model_name": "HTMLModel",
      "state": {
       "layout": "IPY_MODEL_5a4ce7dc36754c2fbf34165895075e7a",
       "style": "IPY_MODEL_db27405fae024b1d9c0f7ac32b34a55a",
       "value": " 0/450 [02:12&lt;?, ?it/s]"
      }
     },
     "8a524affe4904602a32f5b6d2eeb923f": {
      "model_module": "@jupyter-widgets/base",
      "model_module_version": "1.2.0",
      "model_name": "LayoutModel",
      "state": {}
     },
     "8a5349b592c5476c9e07bc0ecd88eec1": {
      "model_module": "@jupyter-widgets/controls",
      "model_module_version": "1.5.0",
      "model_name": "ProgressStyleModel",
      "state": {
       "description_width": "initial"
      }
     },
     "8adf65a7f30342d99768296b90400d0e": {
      "model_module": "@jupyter-widgets/base",
      "model_module_version": "1.2.0",
      "model_name": "LayoutModel",
      "state": {}
     },
     "8af86049bbcd41869de7188b5aa1829b": {
      "model_module": "@jupyter-widgets/base",
      "model_module_version": "1.2.0",
      "model_name": "LayoutModel",
      "state": {}
     },
     "8b27cf8aedfc4ef68197a5a02852c70d": {
      "model_module": "@jupyter-widgets/base",
      "model_module_version": "1.2.0",
      "model_name": "LayoutModel",
      "state": {}
     },
     "8c08a6bae4904844b1fd77cb03f4fa31": {
      "model_module": "@jupyter-widgets/controls",
      "model_module_version": "1.5.0",
      "model_name": "ProgressStyleModel",
      "state": {
       "description_width": "initial"
      }
     },
     "8c41cc38176a44f3b8d029b6f0477601": {
      "model_module": "@jupyter-widgets/controls",
      "model_module_version": "1.5.0",
      "model_name": "DescriptionStyleModel",
      "state": {
       "description_width": ""
      }
     },
     "8daf939a7ecc4255b930d3ad057b266d": {
      "model_module": "@jupyter-widgets/controls",
      "model_module_version": "1.5.0",
      "model_name": "ProgressStyleModel",
      "state": {
       "description_width": "initial"
      }
     },
     "8eed722f1b7c4bc89a56922181d0c058": {
      "model_module": "@jupyter-widgets/base",
      "model_module_version": "1.2.0",
      "model_name": "LayoutModel",
      "state": {}
     },
     "8fa3d1a6e27e45df84f7b3b1a9a51cfc": {
      "model_module": "@jupyter-widgets/controls",
      "model_module_version": "1.5.0",
      "model_name": "ProgressStyleModel",
      "state": {
       "description_width": "initial"
      }
     },
     "91bab8000dde490b95a124ef7922f519": {
      "model_module": "@jupyter-widgets/base",
      "model_module_version": "1.2.0",
      "model_name": "LayoutModel",
      "state": {}
     },
     "93b69a38009046cd863bbb5de127b931": {
      "model_module": "@jupyter-widgets/controls",
      "model_module_version": "1.5.0",
      "model_name": "ProgressStyleModel",
      "state": {
       "description_width": "initial"
      }
     },
     "93d4ca874c5c40a6b5a68931711e1f4f": {
      "model_module": "@jupyter-widgets/controls",
      "model_module_version": "1.5.0",
      "model_name": "ProgressStyleModel",
      "state": {
       "description_width": "initial"
      }
     },
     "93dd7c3c74a04b37baf7f979a043d926": {
      "model_module": "@jupyter-widgets/controls",
      "model_module_version": "1.5.0",
      "model_name": "IntProgressModel",
      "state": {
       "description": "100%",
       "layout": "IPY_MODEL_2b8a8c7b943749a3801a781c3e3a8004",
       "max": 450,
       "style": "IPY_MODEL_cb6b50c1496c4a558d70b9b1e0d3e4e2",
       "value": 450
      }
     },
     "946368759fcd4a6586f793c4c5629bf1": {
      "model_module": "@jupyter-widgets/controls",
      "model_module_version": "1.5.0",
      "model_name": "IntProgressModel",
      "state": {
       "bar_style": "info",
       "layout": "IPY_MODEL_8a524affe4904602a32f5b6d2eeb923f",
       "max": 1,
       "style": "IPY_MODEL_7d59e093a618429da9c16700cd5d475d"
      }
     },
     "94c2641e7bd9469e9e38834f97f3b7ed": {
      "model_module": "@jupyter-widgets/controls",
      "model_module_version": "1.5.0",
      "model_name": "IntProgressModel",
      "state": {
       "bar_style": "danger",
       "description": "  0%",
       "layout": "IPY_MODEL_f5ae9d2244e7491189db21a5e8b1ab6f",
       "max": 10,
       "style": "IPY_MODEL_6e546b87a3f74758b9642c4a7e2f26bf"
      }
     },
     "9532e5269c704056b1fbe66b8674119f": {
      "model_module": "@jupyter-widgets/controls",
      "model_module_version": "1.5.0",
      "model_name": "IntProgressModel",
      "state": {
       "description": "100%",
       "layout": "IPY_MODEL_8adf65a7f30342d99768296b90400d0e",
       "max": 450,
       "style": "IPY_MODEL_a2192de444144a0390c698208683e873",
       "value": 450
      }
     },
     "973ae163f2704edfbc26df11a4c7205c": {
      "model_module": "@jupyter-widgets/controls",
      "model_module_version": "1.5.0",
      "model_name": "HBoxModel",
      "state": {
       "children": [
        "IPY_MODEL_94c2641e7bd9469e9e38834f97f3b7ed",
        "IPY_MODEL_27e97054ea9c46f98e2bdcdd33e1a659"
       ],
       "layout": "IPY_MODEL_c828b424aaa042bd9cb0b783826039f7"
      }
     },
     "973e415e949047e4a92593bce3104fba": {
      "model_module": "@jupyter-widgets/base",
      "model_module_version": "1.2.0",
      "model_name": "LayoutModel",
      "state": {}
     },
     "974d879bb6f74e10a5e1bcdeeb98d72a": {
      "model_module": "@jupyter-widgets/controls",
      "model_module_version": "1.5.0",
      "model_name": "HTMLModel",
      "state": {
       "layout": "IPY_MODEL_126ee9ac63cb49d9af32ebad5d304c16",
       "style": "IPY_MODEL_bc5a1c002ecd4b85afe06c46118e43c6",
       "value": " 0/10 [11:57&lt;?, ?it/s]"
      }
     },
     "9764ac3d32de42ffb2df4b0cbc87b747": {
      "model_module": "@jupyter-widgets/base",
      "model_module_version": "1.2.0",
      "model_name": "LayoutModel",
      "state": {}
     },
     "97873d8eeea44e50bc46f3a47c5bf391": {
      "model_module": "@jupyter-widgets/controls",
      "model_module_version": "1.5.0",
      "model_name": "IntProgressModel",
      "state": {
       "description": "100%",
       "layout": "IPY_MODEL_9764ac3d32de42ffb2df4b0cbc87b747",
       "max": 900,
       "style": "IPY_MODEL_c126750377cb40f48dc4a1945126576f",
       "value": 900
      }
     },
     "97c76247cb304ad28366c98010770335": {
      "model_module": "@jupyter-widgets/controls",
      "model_module_version": "1.5.0",
      "model_name": "ProgressStyleModel",
      "state": {
       "description_width": "initial"
      }
     },
     "97de0a8704654aa0bd900a65f540f564": {
      "model_module": "@jupyter-widgets/base",
      "model_module_version": "1.2.0",
      "model_name": "LayoutModel",
      "state": {}
     },
     "97fdc93303e148d796ea26ddfdaa8fdc": {
      "model_module": "@jupyter-widgets/controls",
      "model_module_version": "1.5.0",
      "model_name": "DescriptionStyleModel",
      "state": {
       "description_width": ""
      }
     },
     "990eff4fd4d049a8a21f8ccf12bd0e1e": {
      "model_module": "@jupyter-widgets/base",
      "model_module_version": "1.2.0",
      "model_name": "LayoutModel",
      "state": {}
     },
     "99c4f45c6ecc42cabb48a5777e0a95fb": {
      "model_module": "@jupyter-widgets/controls",
      "model_module_version": "1.5.0",
      "model_name": "HTMLModel",
      "state": {
       "layout": "IPY_MODEL_f98048facc6d4cdd9f455eef3753cea6",
       "style": "IPY_MODEL_66ab421ddec848a78601cbcc54db11c3",
       "value": " 450/450 [01:34&lt;00:00,  5.03it/s]"
      }
     },
     "9a186c0d1e2d497dac0b242f42166e07": {
      "model_module": "@jupyter-widgets/controls",
      "model_module_version": "1.5.0",
      "model_name": "HTMLModel",
      "state": {
       "layout": "IPY_MODEL_27d25441a15c4d5c88cc083f7657f7d6",
       "style": "IPY_MODEL_ae880b5dee7a4ba29d1f3b18d0fbf752",
       "value": " 0/10 [05:36&lt;?, ?it/s]"
      }
     },
     "9a53a371c4554033b387e6d13d78029a": {
      "model_module": "@jupyter-widgets/controls",
      "model_module_version": "1.5.0",
      "model_name": "IntProgressModel",
      "state": {
       "bar_style": "danger",
       "description": "  0%",
       "layout": "IPY_MODEL_111eb35cd6fc44ee91df3738d6eb022a",
       "max": 15,
       "style": "IPY_MODEL_e3e6377a985148e1a5697616ea18e861"
      }
     },
     "9c73768bb2b04e0ea822757a575cb337": {
      "model_module": "@jupyter-widgets/base",
      "model_module_version": "1.2.0",
      "model_name": "LayoutModel",
      "state": {}
     },
     "9d2823e96bc940d28e18c6d86cf5c1eb": {
      "model_module": "@jupyter-widgets/controls",
      "model_module_version": "1.5.0",
      "model_name": "HTMLModel",
      "state": {
       "layout": "IPY_MODEL_5a3c7a8c04794e01babe323f1d855fff",
       "style": "IPY_MODEL_220827fb447d4f15987139fb4aea549f",
       "value": " 0/? [06:05&lt;?, ?it/s]"
      }
     },
     "9d87c78044664808a6f549533465a7fe": {
      "model_module": "@jupyter-widgets/base",
      "model_module_version": "1.2.0",
      "model_name": "LayoutModel",
      "state": {}
     },
     "9e90f01838a7428580d31fd27c5490ac": {
      "model_module": "@jupyter-widgets/controls",
      "model_module_version": "1.5.0",
      "model_name": "IntProgressModel",
      "state": {
       "bar_style": "danger",
       "description": "Loss: [43208.6]:  10%",
       "layout": "IPY_MODEL_6d08bf941f384996a0e05b20e0fc8c66",
       "max": 10,
       "style": "IPY_MODEL_b9dbb31b14a946e2a64f47dbfc442a11",
       "value": 1
      }
     },
     "9f5590b61b3d43e1bd41789e8a65501f": {
      "model_module": "@jupyter-widgets/base",
      "model_module_version": "1.2.0",
      "model_name": "LayoutModel",
      "state": {}
     },
     "a0aeb6f64133474bb2bee51ca2fe5ca3": {
      "model_module": "@jupyter-widgets/base",
      "model_module_version": "1.2.0",
      "model_name": "LayoutModel",
      "state": {}
     },
     "a0c768824fd54042b58da44463647fe4": {
      "model_module": "@jupyter-widgets/controls",
      "model_module_version": "1.5.0",
      "model_name": "HBoxModel",
      "state": {
       "children": [
        "IPY_MODEL_ab08bc7f78f44cddaf8aea47f0f441e4",
        "IPY_MODEL_e4ab241da40749f7a71050546f2d246a"
       ],
       "layout": "IPY_MODEL_a5d1c7765e154163adf9f7ed6886d736"
      }
     },
     "a13a09c841c8472e991e8914aaa1c91c": {
      "model_module": "@jupyter-widgets/controls",
      "model_module_version": "1.5.0",
      "model_name": "HBoxModel",
      "state": {
       "children": [
        "IPY_MODEL_2b510d39498c484aa997599a3885511e",
        "IPY_MODEL_4c529b05afbf4244b99bc0accc9e637e"
       ],
       "layout": "IPY_MODEL_9c73768bb2b04e0ea822757a575cb337"
      }
     },
     "a1848a4a4af04d559385439ca8009724": {
      "model_module": "@jupyter-widgets/base",
      "model_module_version": "1.2.0",
      "model_name": "LayoutModel",
      "state": {}
     },
     "a18f065b141c420c846354db50b2e18a": {
      "model_module": "@jupyter-widgets/controls",
      "model_module_version": "1.5.0",
      "model_name": "DescriptionStyleModel",
      "state": {
       "description_width": ""
      }
     },
     "a1aca276a5d147bdab1b175e8dd29c88": {
      "model_module": "@jupyter-widgets/controls",
      "model_module_version": "1.5.0",
      "model_name": "HTMLModel",
      "state": {
       "layout": "IPY_MODEL_b47933b3b59d47e480643408bc9382f5",
       "style": "IPY_MODEL_f5eac3148e0948f8987d1613e5a38e57",
       "value": " 450/450 [01:35&lt;00:00,  5.12it/s]"
      }
     },
     "a1dee35e1cb64b259e780b55ef74dafe": {
      "model_module": "@jupyter-widgets/base",
      "model_module_version": "1.2.0",
      "model_name": "LayoutModel",
      "state": {}
     },
     "a2192de444144a0390c698208683e873": {
      "model_module": "@jupyter-widgets/controls",
      "model_module_version": "1.5.0",
      "model_name": "ProgressStyleModel",
      "state": {
       "description_width": "initial"
      }
     },
     "a2963db1b8844e3c86f7230465cdef0c": {
      "model_module": "@jupyter-widgets/base",
      "model_module_version": "1.2.0",
      "model_name": "LayoutModel",
      "state": {}
     },
     "a2ae2a3f6c0841088af3c546a39ad9a6": {
      "model_module": "@jupyter-widgets/controls",
      "model_module_version": "1.5.0",
      "model_name": "HBoxModel",
      "state": {
       "children": [
        "IPY_MODEL_6498e959873c4316b71dcee6c1c1f7ee",
        "IPY_MODEL_286f3ea17d3e49e0b103309a64fb8157"
       ],
       "layout": "IPY_MODEL_f3582597e82d4096aecd53afd256a752"
      }
     },
     "a2c13c42b2884928bd01502eee99fa3a": {
      "model_module": "@jupyter-widgets/base",
      "model_module_version": "1.2.0",
      "model_name": "LayoutModel",
      "state": {}
     },
     "a3058ecf80934648a4f8546703852d44": {
      "model_module": "@jupyter-widgets/base",
      "model_module_version": "1.2.0",
      "model_name": "LayoutModel",
      "state": {}
     },
     "a35c1b27ced2493cac058cf7ec9fb3ac": {
      "model_module": "@jupyter-widgets/controls",
      "model_module_version": "1.5.0",
      "model_name": "HTMLModel",
      "state": {
       "layout": "IPY_MODEL_c19adaf43279410fbcfbf1f63d63304f",
       "style": "IPY_MODEL_7385a4892cce4f3e8bcda9138fa50cf0",
       "value": " 1/10 [01:42&lt;14:20, 95.64s/it]"
      }
     },
     "a3daf12aef68478681c53fc7fda2c8ff": {
      "model_module": "@jupyter-widgets/controls",
      "model_module_version": "1.5.0",
      "model_name": "IntProgressModel",
      "state": {
       "bar_style": "success",
       "description": "100%",
       "layout": "IPY_MODEL_30fb16a6e2064fa1a8c985fa14c466cc",
       "max": 10000,
       "style": "IPY_MODEL_28cb84d11819499baea9140455f45780",
       "value": 10000
      }
     },
     "a3e6db405b7b4b31be6931cf10b848c1": {
      "model_module": "@jupyter-widgets/controls",
      "model_module_version": "1.5.0",
      "model_name": "DescriptionStyleModel",
      "state": {
       "description_width": ""
      }
     },
     "a428e4f9bee9460b8d1d986d1455ef90": {
      "model_module": "@jupyter-widgets/base",
      "model_module_version": "1.2.0",
      "model_name": "LayoutModel",
      "state": {}
     },
     "a59decf4c892459991b2b267598d88ec": {
      "model_module": "@jupyter-widgets/controls",
      "model_module_version": "1.5.0",
      "model_name": "HTMLModel",
      "state": {
       "layout": "IPY_MODEL_a1848a4a4af04d559385439ca8009724",
       "style": "IPY_MODEL_431bf4dc6be449798d008863a4f32a9d",
       "value": " 450/450 [01:32&lt;00:00,  4.61it/s]"
      }
     },
     "a5d1c7765e154163adf9f7ed6886d736": {
      "model_module": "@jupyter-widgets/base",
      "model_module_version": "1.2.0",
      "model_name": "LayoutModel",
      "state": {}
     },
     "a5d3e4d6d65a4e8d8bee4caccc8320f4": {
      "model_module": "@jupyter-widgets/base",
      "model_module_version": "1.2.0",
      "model_name": "LayoutModel",
      "state": {}
     },
     "a629c4df7f0647e08b1f3582adc69c43": {
      "model_module": "@jupyter-widgets/controls",
      "model_module_version": "1.5.0",
      "model_name": "HTMLModel",
      "state": {
       "layout": "IPY_MODEL_0da33782bf024aecb53dc0714210cc3d",
       "style": "IPY_MODEL_09d7f4b5ef0a42e4b7674afe118d749c",
       "value": " 10/10 [04:50&lt;00:00, 29.04s/it]"
      }
     },
     "a62cc2c42c3c407c8945edec434dae56": {
      "model_module": "@jupyter-widgets/base",
      "model_module_version": "1.2.0",
      "model_name": "LayoutModel",
      "state": {}
     },
     "a719b916791c41d2a9f88b1993d5b7fd": {
      "model_module": "@jupyter-widgets/controls",
      "model_module_version": "1.5.0",
      "model_name": "HBoxModel",
      "state": {
       "children": [
        "IPY_MODEL_d44130589b3744d4a418a26e4f964c0e",
        "IPY_MODEL_52778ada89d0469d802677ca7a8f939b"
       ],
       "layout": "IPY_MODEL_52324307f8d24a2da69e9b216696cb19"
      }
     },
     "a72d8b8dadd0476196a37b0ad7ba44fe": {
      "model_module": "@jupyter-widgets/controls",
      "model_module_version": "1.5.0",
      "model_name": "DescriptionStyleModel",
      "state": {
       "description_width": ""
      }
     },
     "a835e03c6a9041a5be1a783907f2071e": {
      "model_module": "@jupyter-widgets/base",
      "model_module_version": "1.2.0",
      "model_name": "LayoutModel",
      "state": {}
     },
     "a8d29368965747f1ad6755f90ef74c6c": {
      "model_module": "@jupyter-widgets/controls",
      "model_module_version": "1.5.0",
      "model_name": "IntProgressModel",
      "state": {
       "description": "100%",
       "layout": "IPY_MODEL_47e343dce9714153b9562fa1f4629bee",
       "max": 981,
       "style": "IPY_MODEL_76362763be1e4dcf9717e2716be5843d",
       "value": 981
      }
     },
     "a8d30c3693d445e68877266dce5b257c": {
      "model_module": "@jupyter-widgets/controls",
      "model_module_version": "1.5.0",
      "model_name": "HTMLModel",
      "state": {
       "layout": "IPY_MODEL_bcf1ae550546496995073505f6ff2ec7",
       "style": "IPY_MODEL_a18f065b141c420c846354db50b2e18a",
       "value": " 0/450 [02:57&lt;?, ?it/s]"
      }
     },
     "a8d6b1f10e974757bf16ebab66d5e49a": {
      "model_module": "@jupyter-widgets/base",
      "model_module_version": "1.2.0",
      "model_name": "LayoutModel",
      "state": {}
     },
     "a933bff30af64b4782038b55129a3d8f": {
      "model_module": "@jupyter-widgets/base",
      "model_module_version": "1.2.0",
      "model_name": "LayoutModel",
      "state": {}
     },
     "a96a4e2ddf244350adf26c8020332f5f": {
      "model_module": "@jupyter-widgets/controls",
      "model_module_version": "1.5.0",
      "model_name": "DescriptionStyleModel",
      "state": {
       "description_width": ""
      }
     },
     "ab08bc7f78f44cddaf8aea47f0f441e4": {
      "model_module": "@jupyter-widgets/controls",
      "model_module_version": "1.5.0",
      "model_name": "IntProgressModel",
      "state": {
       "bar_style": "danger",
       "description": "  0%",
       "layout": "IPY_MODEL_e8568d03d2904098b85971024c2f7469",
       "max": 3600,
       "style": "IPY_MODEL_04c87c3e808246199da94ca5117be430"
      }
     },
     "abd6d27e3beb48d78e35e9adfb196419": {
      "model_module": "@jupyter-widgets/base",
      "model_module_version": "1.2.0",
      "model_name": "LayoutModel",
      "state": {}
     },
     "ad08d2d9d08e4fd1a1fbd803f58dc34a": {
      "model_module": "@jupyter-widgets/base",
      "model_module_version": "1.2.0",
      "model_name": "LayoutModel",
      "state": {}
     },
     "ad75c941b976426c84a8596411ecf6ba": {
      "model_module": "@jupyter-widgets/controls",
      "model_module_version": "1.5.0",
      "model_name": "HBoxModel",
      "state": {
       "children": [
        "IPY_MODEL_448d102f36e349238692222263acb843",
        "IPY_MODEL_1ffb83c558794b86aa8e336d0c8306d7"
       ],
       "layout": "IPY_MODEL_7bb9014aff3a449491fb5256d9702896"
      }
     },
     "ad8eaa0e244f43e4ab0c1fe95ba1c413": {
      "model_module": "@jupyter-widgets/base",
      "model_module_version": "1.2.0",
      "model_name": "LayoutModel",
      "state": {}
     },
     "ae081fc9b10642c6b2fe17bfd42ed33d": {
      "model_module": "@jupyter-widgets/controls",
      "model_module_version": "1.5.0",
      "model_name": "ProgressStyleModel",
      "state": {
       "description_width": "initial"
      }
     },
     "ae4ab31262784ea6a3e25043db0378ef": {
      "model_module": "@jupyter-widgets/controls",
      "model_module_version": "1.5.0",
      "model_name": "DescriptionStyleModel",
      "state": {
       "description_width": ""
      }
     },
     "ae880b5dee7a4ba29d1f3b18d0fbf752": {
      "model_module": "@jupyter-widgets/controls",
      "model_module_version": "1.5.0",
      "model_name": "DescriptionStyleModel",
      "state": {
       "description_width": ""
      }
     },
     "aea76924f3dc44d7a951aec08295bb3b": {
      "model_module": "@jupyter-widgets/controls",
      "model_module_version": "1.5.0",
      "model_name": "DescriptionStyleModel",
      "state": {
       "description_width": ""
      }
     },
     "b0e5a39e2d374025b25355fad3b08864": {
      "model_module": "@jupyter-widgets/controls",
      "model_module_version": "1.5.0",
      "model_name": "HBoxModel",
      "state": {
       "children": [
        "IPY_MODEL_71d471bfaac149a5a93000a1a962b698",
        "IPY_MODEL_3a58f08e292240fead9dede31bcfd3e6"
       ],
       "layout": "IPY_MODEL_62e4afc0fe874400b43a90c55ebf908f"
      }
     },
     "b125ae43fe3f4c27a2dfc16c87ec57bd": {
      "model_module": "@jupyter-widgets/controls",
      "model_module_version": "1.5.0",
      "model_name": "DescriptionStyleModel",
      "state": {
       "description_width": ""
      }
     },
     "b1d279101b4b42819e58f46b2e4cb99d": {
      "model_module": "@jupyter-widgets/controls",
      "model_module_version": "1.5.0",
      "model_name": "IntProgressModel",
      "state": {
       "description": "100%",
       "layout": "IPY_MODEL_057de84c95eb4e228a159e41f213d4f2",
       "max": 450,
       "style": "IPY_MODEL_48a2e2b9b1024b7d93eff0e3ceb8d493",
       "value": 450
      }
     },
     "b2687da8cec7442f8f3684e6e52f2595": {
      "model_module": "@jupyter-widgets/base",
      "model_module_version": "1.2.0",
      "model_name": "LayoutModel",
      "state": {}
     },
     "b3b556d4476244bc9c9ef29c088f6da9": {
      "model_module": "@jupyter-widgets/base",
      "model_module_version": "1.2.0",
      "model_name": "LayoutModel",
      "state": {}
     },
     "b3dbfaf8ff5043e0b0f1fdcab4cdc917": {
      "model_module": "@jupyter-widgets/controls",
      "model_module_version": "1.5.0",
      "model_name": "IntProgressModel",
      "state": {
       "bar_style": "danger",
       "description": "Loss: []:  10%",
       "layout": "IPY_MODEL_c638baf107534c7592a465c47caef124",
       "max": 10,
       "style": "IPY_MODEL_7c6c88aef25149d48ceec1b22deee735",
       "value": 1
      }
     },
     "b419c84f865747e7a597405805f8cb30": {
      "model_module": "@jupyter-widgets/controls",
      "model_module_version": "1.5.0",
      "model_name": "ProgressStyleModel",
      "state": {
       "description_width": "initial"
      }
     },
     "b428ddd54744486eb6f31dfb520f1850": {
      "model_module": "@jupyter-widgets/controls",
      "model_module_version": "1.5.0",
      "model_name": "IntProgressModel",
      "state": {
       "bar_style": "danger",
       "description": "  8%",
       "layout": "IPY_MODEL_a62cc2c42c3c407c8945edec434dae56",
       "max": 450,
       "style": "IPY_MODEL_0ff2cb3b9c6e435c933d36a993014942",
       "value": 35
      }
     },
     "b47933b3b59d47e480643408bc9382f5": {
      "model_module": "@jupyter-widgets/base",
      "model_module_version": "1.2.0",
      "model_name": "LayoutModel",
      "state": {}
     },
     "b4b85d5eac3c45eabbdca83d7e04611d": {
      "model_module": "@jupyter-widgets/base",
      "model_module_version": "1.2.0",
      "model_name": "LayoutModel",
      "state": {}
     },
     "b4daceee178a413baf5cbd5f25e1ef1a": {
      "model_module": "@jupyter-widgets/controls",
      "model_module_version": "1.5.0",
      "model_name": "HBoxModel",
      "state": {
       "children": [
        "IPY_MODEL_6b683b00d7b746eda38eb49353e2e0b7",
        "IPY_MODEL_a8d30c3693d445e68877266dce5b257c"
       ],
       "layout": "IPY_MODEL_30141f466bf74664bd25687432524b3f"
      }
     },
     "b736634cd5874bccb31f3b1d2c2d4ee5": {
      "model_module": "@jupyter-widgets/controls",
      "model_module_version": "1.5.0",
      "model_name": "ProgressStyleModel",
      "state": {
       "description_width": "initial"
      }
     },
     "b9dbb31b14a946e2a64f47dbfc442a11": {
      "model_module": "@jupyter-widgets/controls",
      "model_module_version": "1.5.0",
      "model_name": "ProgressStyleModel",
      "state": {
       "description_width": "initial"
      }
     },
     "b9fb6157aa8845c496d2012efa6d6afb": {
      "model_module": "@jupyter-widgets/controls",
      "model_module_version": "1.5.0",
      "model_name": "ProgressStyleModel",
      "state": {
       "description_width": "initial"
      }
     },
     "bbcbeb3b436e47849794069bf714bdef": {
      "model_module": "@jupyter-widgets/controls",
      "model_module_version": "1.5.0",
      "model_name": "ProgressStyleModel",
      "state": {
       "description_width": "initial"
      }
     },
     "bc5a1c002ecd4b85afe06c46118e43c6": {
      "model_module": "@jupyter-widgets/controls",
      "model_module_version": "1.5.0",
      "model_name": "DescriptionStyleModel",
      "state": {
       "description_width": ""
      }
     },
     "bcf1ae550546496995073505f6ff2ec7": {
      "model_module": "@jupyter-widgets/base",
      "model_module_version": "1.2.0",
      "model_name": "LayoutModel",
      "state": {}
     },
     "bd072e59f0224b37b7388a7348838f04": {
      "model_module": "@jupyter-widgets/base",
      "model_module_version": "1.2.0",
      "model_name": "LayoutModel",
      "state": {}
     },
     "bd2718f164d5403ab46d861cf8a10efa": {
      "model_module": "@jupyter-widgets/controls",
      "model_module_version": "1.5.0",
      "model_name": "DescriptionStyleModel",
      "state": {
       "description_width": ""
      }
     },
     "bdfb426fa6484862a8367d1f20ab72ca": {
      "model_module": "@jupyter-widgets/base",
      "model_module_version": "1.2.0",
      "model_name": "LayoutModel",
      "state": {}
     },
     "be88056d1cc4456c8f254d01916a1924": {
      "model_module": "@jupyter-widgets/base",
      "model_module_version": "1.2.0",
      "model_name": "LayoutModel",
      "state": {}
     },
     "bfc85f0faf754b21898812b2da9c0c51": {
      "model_module": "@jupyter-widgets/base",
      "model_module_version": "1.2.0",
      "model_name": "LayoutModel",
      "state": {}
     },
     "bff96863b23f4ab7ad5eeca6cb6dfe36": {
      "model_module": "@jupyter-widgets/base",
      "model_module_version": "1.2.0",
      "model_name": "LayoutModel",
      "state": {}
     },
     "c032d7bdf7fb4b83bc625ad4838162fd": {
      "model_module": "@jupyter-widgets/base",
      "model_module_version": "1.2.0",
      "model_name": "LayoutModel",
      "state": {}
     },
     "c03b6c52fc1f418bbd13f74f8dd7e210": {
      "model_module": "@jupyter-widgets/base",
      "model_module_version": "1.2.0",
      "model_name": "LayoutModel",
      "state": {}
     },
     "c03c51de59484fb184a28737aa75383e": {
      "model_module": "@jupyter-widgets/controls",
      "model_module_version": "1.5.0",
      "model_name": "HTMLModel",
      "state": {
       "layout": "IPY_MODEL_a1dee35e1cb64b259e780b55ef74dafe",
       "style": "IPY_MODEL_e254d57ed9fb41bd9f9bdddd1f8242d8",
       "value": " 0/450 [04:58&lt;?, ?it/s]"
      }
     },
     "c0accf68ab23429b974ae9f790530efa": {
      "model_module": "@jupyter-widgets/controls",
      "model_module_version": "1.5.0",
      "model_name": "ProgressStyleModel",
      "state": {
       "description_width": "initial"
      }
     },
     "c126750377cb40f48dc4a1945126576f": {
      "model_module": "@jupyter-widgets/controls",
      "model_module_version": "1.5.0",
      "model_name": "ProgressStyleModel",
      "state": {
       "description_width": "initial"
      }
     },
     "c19adaf43279410fbcfbf1f63d63304f": {
      "model_module": "@jupyter-widgets/base",
      "model_module_version": "1.2.0",
      "model_name": "LayoutModel",
      "state": {}
     },
     "c235183d907544b282afa55fcf9b810e": {
      "model_module": "@jupyter-widgets/controls",
      "model_module_version": "1.5.0",
      "model_name": "HBoxModel",
      "state": {
       "children": [
        "IPY_MODEL_7e69d2c74ab04545a32504dc895ef5dc",
        "IPY_MODEL_8900570a5499461a9050e47f24f3b43d"
       ],
       "layout": "IPY_MODEL_801e42d3f7974f4382085f10aaadae51"
      }
     },
     "c28a01c5bf764b5ca48d384225416736": {
      "model_module": "@jupyter-widgets/base",
      "model_module_version": "1.2.0",
      "model_name": "LayoutModel",
      "state": {}
     },
     "c2942c9b823a46139f24508c2a0f460f": {
      "model_module": "@jupyter-widgets/base",
      "model_module_version": "1.2.0",
      "model_name": "LayoutModel",
      "state": {}
     },
     "c410026e50be48078730f8677106dbf5": {
      "model_module": "@jupyter-widgets/controls",
      "model_module_version": "1.5.0",
      "model_name": "DescriptionStyleModel",
      "state": {
       "description_width": ""
      }
     },
     "c46cd4ea6f6a4c89b0105da34b6d3179": {
      "model_module": "@jupyter-widgets/controls",
      "model_module_version": "1.5.0",
      "model_name": "ProgressStyleModel",
      "state": {
       "description_width": "initial"
      }
     },
     "c5a57d13c7fc47aba8941a3e92ee8d2f": {
      "model_module": "@jupyter-widgets/controls",
      "model_module_version": "1.5.0",
      "model_name": "IntProgressModel",
      "state": {
       "bar_style": "danger",
       "description": "Loss: [31463.21]:   7%",
       "layout": "IPY_MODEL_6f1430a084f34060a074b9d05ae36ad8",
       "max": 15,
       "style": "IPY_MODEL_97c76247cb304ad28366c98010770335",
       "value": 1
      }
     },
     "c638baf107534c7592a465c47caef124": {
      "model_module": "@jupyter-widgets/base",
      "model_module_version": "1.2.0",
      "model_name": "LayoutModel",
      "state": {}
     },
     "c75ecef96c26419c9ef85a017fb593ab": {
      "model_module": "@jupyter-widgets/controls",
      "model_module_version": "1.5.0",
      "model_name": "IntProgressModel",
      "state": {
       "description": "100%",
       "layout": "IPY_MODEL_bfc85f0faf754b21898812b2da9c0c51",
       "max": 450,
       "style": "IPY_MODEL_f882b874e99142758dbad655eac182e3",
       "value": 450
      }
     },
     "c828b424aaa042bd9cb0b783826039f7": {
      "model_module": "@jupyter-widgets/base",
      "model_module_version": "1.2.0",
      "model_name": "LayoutModel",
      "state": {}
     },
     "c893591ce33b4dffa2f930c64ff1fad9": {
      "model_module": "@jupyter-widgets/controls",
      "model_module_version": "1.5.0",
      "model_name": "IntProgressModel",
      "state": {
       "bar_style": "danger",
       "description": " 10%",
       "layout": "IPY_MODEL_6bac4c7c43bb43509e04e2105166bf6c",
       "max": 900,
       "style": "IPY_MODEL_8c08a6bae4904844b1fd77cb03f4fa31",
       "value": 89
      }
     },
     "cb4c10275d664778ba547708fbb1e727": {
      "model_module": "@jupyter-widgets/base",
      "model_module_version": "1.2.0",
      "model_name": "LayoutModel",
      "state": {}
     },
     "cb6b50c1496c4a558d70b9b1e0d3e4e2": {
      "model_module": "@jupyter-widgets/controls",
      "model_module_version": "1.5.0",
      "model_name": "ProgressStyleModel",
      "state": {
       "description_width": "initial"
      }
     },
     "cc4d679128db44fe81f014b92c958613": {
      "model_module": "@jupyter-widgets/controls",
      "model_module_version": "1.5.0",
      "model_name": "IntProgressModel",
      "state": {
       "bar_style": "success",
       "description": "100%",
       "layout": "IPY_MODEL_29e80a70ba65445aa60961cca584351e",
       "max": 10000,
       "style": "IPY_MODEL_86fc820f665f48e88bf19158cba420a3",
       "value": 10000
      }
     },
     "cc9bf29350634b869a1cca91df84ec2e": {
      "model_module": "@jupyter-widgets/controls",
      "model_module_version": "1.5.0",
      "model_name": "HTMLModel",
      "state": {
       "layout": "IPY_MODEL_bd072e59f0224b37b7388a7348838f04",
       "style": "IPY_MODEL_dd16b7159d22490daf2b255adac9e337",
       "value": " 0/450 [04:58&lt;?, ?it/s]"
      }
     },
     "ccaea267a8714404bc9a306ad91c2a07": {
      "model_module": "@jupyter-widgets/controls",
      "model_module_version": "1.5.0",
      "model_name": "HBoxModel",
      "state": {
       "children": [
        "IPY_MODEL_b3dbfaf8ff5043e0b0f1fdcab4cdc917",
        "IPY_MODEL_7916c1d91d2a44cd8d5d76be8e261cb8"
       ],
       "layout": "IPY_MODEL_973e415e949047e4a92593bce3104fba"
      }
     },
     "cce129039085454faad807cb1768e833": {
      "model_module": "@jupyter-widgets/base",
      "model_module_version": "1.2.0",
      "model_name": "LayoutModel",
      "state": {}
     },
     "ccf71e9bcac84cad8bd9ca8b9718ffa9": {
      "model_module": "@jupyter-widgets/base",
      "model_module_version": "1.2.0",
      "model_name": "LayoutModel",
      "state": {}
     },
     "cebe1efa228345a09aa6d910d520d08f": {
      "model_module": "@jupyter-widgets/base",
      "model_module_version": "1.2.0",
      "model_name": "LayoutModel",
      "state": {}
     },
     "cf3c47c173424d0db9b76b49ea726d31": {
      "model_module": "@jupyter-widgets/base",
      "model_module_version": "1.2.0",
      "model_name": "LayoutModel",
      "state": {}
     },
     "d041a8bf3f43424db76d83c4079b03a5": {
      "model_module": "@jupyter-widgets/base",
      "model_module_version": "1.2.0",
      "model_name": "LayoutModel",
      "state": {}
     },
     "d07398515aab4be094dd172934fd9aae": {
      "model_module": "@jupyter-widgets/controls",
      "model_module_version": "1.5.0",
      "model_name": "DescriptionStyleModel",
      "state": {
       "description_width": ""
      }
     },
     "d19b73512fa24cb48d48a9ef34b0ab0f": {
      "model_module": "@jupyter-widgets/controls",
      "model_module_version": "1.5.0",
      "model_name": "HTMLModel",
      "state": {
       "layout": "IPY_MODEL_21294d2c7cf5497085adffba81df6d33",
       "style": "IPY_MODEL_6625bdfef45f4d94b562916ef80c56a9",
       "value": " 10000/10000 [00:18&lt;00:00, 544.00it/s]"
      }
     },
     "d1b2d69aee63499aad483b5410a74f6b": {
      "model_module": "@jupyter-widgets/base",
      "model_module_version": "1.2.0",
      "model_name": "LayoutModel",
      "state": {}
     },
     "d2ad1114c2b6408ba3ad3bfd0ecf9e44": {
      "model_module": "@jupyter-widgets/controls",
      "model_module_version": "1.5.0",
      "model_name": "ProgressStyleModel",
      "state": {
       "description_width": "initial"
      }
     },
     "d3c82b2a15884c66aa7e973656aa4b3a": {
      "model_module": "@jupyter-widgets/controls",
      "model_module_version": "1.5.0",
      "model_name": "HBoxModel",
      "state": {
       "children": [
        "IPY_MODEL_743e23dea3174bd8b211326c2fc7bca1",
        "IPY_MODEL_c03c51de59484fb184a28737aa75383e"
       ],
       "layout": "IPY_MODEL_e05764d4ca6e44e1835be6a983485077"
      }
     },
     "d41e6b72fa5f47a7a3d466724dfd0231": {
      "model_module": "@jupyter-widgets/controls",
      "model_module_version": "1.5.0",
      "model_name": "DescriptionStyleModel",
      "state": {
       "description_width": ""
      }
     },
     "d44130589b3744d4a418a26e4f964c0e": {
      "model_module": "@jupyter-widgets/controls",
      "model_module_version": "1.5.0",
      "model_name": "IntProgressModel",
      "state": {
       "bar_style": "success",
       "description": "100%",
       "layout": "IPY_MODEL_d1b2d69aee63499aad483b5410a74f6b",
       "max": 10000,
       "style": "IPY_MODEL_fe4916b0f52441278a8809435a63b556",
       "value": 10000
      }
     },
     "d4586457b34943b2af51feb8f959cc73": {
      "model_module": "@jupyter-widgets/controls",
      "model_module_version": "1.5.0",
      "model_name": "IntProgressModel",
      "state": {
       "description": "100%",
       "layout": "IPY_MODEL_31bb510f5c014390873199d9370f9074",
       "max": 450,
       "style": "IPY_MODEL_e36ee2d7576a4b99a97a9d180ccc63f5",
       "value": 450
      }
     },
     "d4619cbbb2d14f59ae38eb417a3b7984": {
      "model_module": "@jupyter-widgets/base",
      "model_module_version": "1.2.0",
      "model_name": "LayoutModel",
      "state": {}
     },
     "d533e85013f043d9829c5a21457baad8": {
      "model_module": "@jupyter-widgets/controls",
      "model_module_version": "1.5.0",
      "model_name": "HTMLModel",
      "state": {
       "layout": "IPY_MODEL_d041a8bf3f43424db76d83c4079b03a5",
       "style": "IPY_MODEL_2f7363ba3bc644bc9fd140f5891d7df7",
       "value": " 1/15 [02:20&lt;29:46, 127.61s/it]"
      }
     },
     "d57ffe57b4ba40edb060308c5a1f45d6": {
      "model_module": "@jupyter-widgets/controls",
      "model_module_version": "1.5.0",
      "model_name": "HBoxModel",
      "state": {
       "children": [
        "IPY_MODEL_4a3866a86d884cf3970e25be3025ce0c",
        "IPY_MODEL_8a377ac654e44c2b8a7f20e055b99abe"
       ],
       "layout": "IPY_MODEL_9d87c78044664808a6f549533465a7fe"
      }
     },
     "d6226179d77942a6aff482330be34756": {
      "model_module": "@jupyter-widgets/base",
      "model_module_version": "1.2.0",
      "model_name": "LayoutModel",
      "state": {}
     },
     "d71c6934e10944e8a6a035bd17484d99": {
      "model_module": "@jupyter-widgets/controls",
      "model_module_version": "1.5.0",
      "model_name": "HBoxModel",
      "state": {
       "children": [
        "IPY_MODEL_9e90f01838a7428580d31fd27c5490ac",
        "IPY_MODEL_a35c1b27ced2493cac058cf7ec9fb3ac"
       ],
       "layout": "IPY_MODEL_f7825a26d28f44d48ed8eb174ad28846"
      }
     },
     "d72d068f901d40e791aac1e11fd4ce00": {
      "model_module": "@jupyter-widgets/controls",
      "model_module_version": "1.5.0",
      "model_name": "DescriptionStyleModel",
      "state": {
       "description_width": ""
      }
     },
     "d78ffe5993ac44bdb61f4189a6253d3d": {
      "model_module": "@jupyter-widgets/controls",
      "model_module_version": "1.5.0",
      "model_name": "ProgressStyleModel",
      "state": {
       "description_width": "initial"
      }
     },
     "d8f5be49716c42dcb8183bd03ff4355b": {
      "model_module": "@jupyter-widgets/base",
      "model_module_version": "1.2.0",
      "model_name": "LayoutModel",
      "state": {}
     },
     "d90cbee5d17e4a8d9dbda472d9b881d1": {
      "model_module": "@jupyter-widgets/controls",
      "model_module_version": "1.5.0",
      "model_name": "IntProgressModel",
      "state": {
       "bar_style": "danger",
       "description": "Loss: [44752.45]:   7%",
       "layout": "IPY_MODEL_ef8e1f72977843a2bb8d1a9df237a4a9",
       "max": 15,
       "style": "IPY_MODEL_8a5349b592c5476c9e07bc0ecd88eec1",
       "value": 1
      }
     },
     "d91fe47ba633412880c51ccf3b5e562b": {
      "model_module": "@jupyter-widgets/controls",
      "model_module_version": "1.5.0",
      "model_name": "HBoxModel",
      "state": {
       "children": [
        "IPY_MODEL_03580a8660464c5c8eea0eac1cd1c427",
        "IPY_MODEL_a629c4df7f0647e08b1f3582adc69c43"
       ],
       "layout": "IPY_MODEL_6e660c989c9f4bc68be469380a3b1106"
      }
     },
     "db27405fae024b1d9c0f7ac32b34a55a": {
      "model_module": "@jupyter-widgets/controls",
      "model_module_version": "1.5.0",
      "model_name": "DescriptionStyleModel",
      "state": {
       "description_width": ""
      }
     },
     "dc24558b901b4752a0eef76df310ad10": {
      "model_module": "@jupyter-widgets/controls",
      "model_module_version": "1.5.0",
      "model_name": "DescriptionStyleModel",
      "state": {
       "description_width": ""
      }
     },
     "dcfee418ee84490aabfa5a3ca376ae98": {
      "model_module": "@jupyter-widgets/controls",
      "model_module_version": "1.5.0",
      "model_name": "HTMLModel",
      "state": {
       "layout": "IPY_MODEL_a2963db1b8844e3c86f7230465cdef0c",
       "style": "IPY_MODEL_040c86228215497eb189944e7c325bb3",
       "value": " 450/450 [01:34&lt;00:00,  5.61it/s]"
      }
     },
     "dd16b7159d22490daf2b255adac9e337": {
      "model_module": "@jupyter-widgets/controls",
      "model_module_version": "1.5.0",
      "model_name": "DescriptionStyleModel",
      "state": {
       "description_width": ""
      }
     },
     "de358b269dc140f5824e27f11c0054a5": {
      "model_module": "@jupyter-widgets/controls",
      "model_module_version": "1.5.0",
      "model_name": "HTMLModel",
      "state": {
       "layout": "IPY_MODEL_1be737933f994d0c92dc65d246bee56b",
       "style": "IPY_MODEL_2fbe02270be348c08806b07c8d3d3c9b",
       "value": " 79/3600 [28:05&lt;06:05,  9.64it/s]"
      }
     },
     "de811c0de185473c9a2a252e8cc8f889": {
      "model_module": "@jupyter-widgets/base",
      "model_module_version": "1.2.0",
      "model_name": "LayoutModel",
      "state": {}
     },
     "df11a475a05d42dd87ad7159105cba7d": {
      "model_module": "@jupyter-widgets/base",
      "model_module_version": "1.2.0",
      "model_name": "LayoutModel",
      "state": {}
     },
     "dfd74d20c5bf45f9aab4b6f80dac2550": {
      "model_module": "@jupyter-widgets/controls",
      "model_module_version": "1.5.0",
      "model_name": "IntProgressModel",
      "state": {
       "bar_style": "danger",
       "description": "  0%",
       "layout": "IPY_MODEL_84d4df37c61249b29115de98cc529bd7",
       "max": 15,
       "style": "IPY_MODEL_4451d8b5095943d58dc9bdbbaf5c3ab1"
      }
     },
     "e05764d4ca6e44e1835be6a983485077": {
      "model_module": "@jupyter-widgets/base",
      "model_module_version": "1.2.0",
      "model_name": "LayoutModel",
      "state": {}
     },
     "e1610ee1170e4b7aaa25d32700c45628": {
      "model_module": "@jupyter-widgets/base",
      "model_module_version": "1.2.0",
      "model_name": "LayoutModel",
      "state": {}
     },
     "e1aaef6a56cc4107876964dbf9fcf548": {
      "model_module": "@jupyter-widgets/base",
      "model_module_version": "1.2.0",
      "model_name": "LayoutModel",
      "state": {}
     },
     "e21f23c4faee477aaa1385795c92a344": {
      "model_module": "@jupyter-widgets/base",
      "model_module_version": "1.2.0",
      "model_name": "LayoutModel",
      "state": {}
     },
     "e254d57ed9fb41bd9f9bdddd1f8242d8": {
      "model_module": "@jupyter-widgets/controls",
      "model_module_version": "1.5.0",
      "model_name": "DescriptionStyleModel",
      "state": {
       "description_width": ""
      }
     },
     "e2b211ec67f445a9b67204d70b0cc8aa": {
      "model_module": "@jupyter-widgets/controls",
      "model_module_version": "1.5.0",
      "model_name": "HBoxModel",
      "state": {
       "children": [
        "IPY_MODEL_17cd7decd2c14ef3a35bc9fcf8adcfe5",
        "IPY_MODEL_18c7a8e84d984f6a8c669bc09ffdeddc"
       ],
       "layout": "IPY_MODEL_670eb33f385a4f61862793e630d74370"
      }
     },
     "e2b96cb68bc1413b86fd10815f58094e": {
      "model_module": "@jupyter-widgets/controls",
      "model_module_version": "1.5.0",
      "model_name": "ProgressStyleModel",
      "state": {
       "description_width": "initial"
      }
     },
     "e36ee2d7576a4b99a97a9d180ccc63f5": {
      "model_module": "@jupyter-widgets/controls",
      "model_module_version": "1.5.0",
      "model_name": "ProgressStyleModel",
      "state": {
       "description_width": "initial"
      }
     },
     "e3e6377a985148e1a5697616ea18e861": {
      "model_module": "@jupyter-widgets/controls",
      "model_module_version": "1.5.0",
      "model_name": "ProgressStyleModel",
      "state": {
       "description_width": "initial"
      }
     },
     "e428af9b809446348ef05bd1b6ba21f3": {
      "model_module": "@jupyter-widgets/controls",
      "model_module_version": "1.5.0",
      "model_name": "HTMLModel",
      "state": {
       "layout": "IPY_MODEL_3d97cf20ac694ea5b3fe8ab98b6c74bb",
       "style": "IPY_MODEL_bd2718f164d5403ab46d861cf8a10efa",
       "value": " 0/10 [03:05&lt;?, ?it/s]"
      }
     },
     "e4ab241da40749f7a71050546f2d246a": {
      "model_module": "@jupyter-widgets/controls",
      "model_module_version": "1.5.0",
      "model_name": "HTMLModel",
      "state": {
       "layout": "IPY_MODEL_003ada6fba0c4eafacf14e0205309595",
       "style": "IPY_MODEL_750c4743d9264b5382ed09ced83da9af",
       "value": " 0/3600 [28:29&lt;?, ?it/s]"
      }
     },
     "e53d7197057b4685a236c59991e4d6a9": {
      "model_module": "@jupyter-widgets/controls",
      "model_module_version": "1.5.0",
      "model_name": "ProgressStyleModel",
      "state": {
       "description_width": "initial"
      }
     },
     "e60362605e194ef98707d77ec7762562": {
      "model_module": "@jupyter-widgets/controls",
      "model_module_version": "1.5.0",
      "model_name": "HTMLModel",
      "state": {
       "layout": "IPY_MODEL_0a308cfcef0c41dd8a02b6282cc4ee4b",
       "style": "IPY_MODEL_69c42bef2ec24b6f96a95f27a52fe050",
       "value": " 0/3600 [11:57&lt;?, ?it/s]"
      }
     },
     "e6805f7222b641eabea2c1028bf03115": {
      "model_module": "@jupyter-widgets/controls",
      "model_module_version": "1.5.0",
      "model_name": "HBoxModel",
      "state": {
       "children": [
        "IPY_MODEL_843e24ef70f0436eafa3293ab24c95e5",
        "IPY_MODEL_9a186c0d1e2d497dac0b242f42166e07"
       ],
       "layout": "IPY_MODEL_664426bbb62842fab1dd46268602e826"
      }
     },
     "e7e2098682454de897130ef4a94050b4": {
      "model_module": "@jupyter-widgets/controls",
      "model_module_version": "1.5.0",
      "model_name": "ProgressStyleModel",
      "state": {
       "description_width": "initial"
      }
     },
     "e809ac2c4389418d99e803eab6f03fa9": {
      "model_module": "@jupyter-widgets/controls",
      "model_module_version": "1.5.0",
      "model_name": "DescriptionStyleModel",
      "state": {
       "description_width": ""
      }
     },
     "e8568d03d2904098b85971024c2f7469": {
      "model_module": "@jupyter-widgets/base",
      "model_module_version": "1.2.0",
      "model_name": "LayoutModel",
      "state": {}
     },
     "e86481896f164b8d9271b0a360e866fa": {
      "model_module": "@jupyter-widgets/controls",
      "model_module_version": "1.5.0",
      "model_name": "DescriptionStyleModel",
      "state": {
       "description_width": ""
      }
     },
     "e8fdfa42a4544a2bae56e6151d9b4bb7": {
      "model_module": "@jupyter-widgets/base",
      "model_module_version": "1.2.0",
      "model_name": "LayoutModel",
      "state": {}
     },
     "eae8c0782d0b4d00a44d46174ed31a18": {
      "model_module": "@jupyter-widgets/controls",
      "model_module_version": "1.5.0",
      "model_name": "HBoxModel",
      "state": {
       "children": [
        "IPY_MODEL_1cd7404b68c64c44a12dcb2872a5c8d8",
        "IPY_MODEL_47ddf5202d01420d855511279f8ffe71"
       ],
       "layout": "IPY_MODEL_34cd66b043074042b7e42b8ddf293211"
      }
     },
     "eb16b1e9a1dc471fb74e627ffbd131b3": {
      "model_module": "@jupyter-widgets/controls",
      "model_module_version": "1.5.0",
      "model_name": "HBoxModel",
      "state": {
       "children": [
        "IPY_MODEL_7b0d4f6387c34716a8968da346c9be21",
        "IPY_MODEL_039c4ea249d944c1a243df77d65a638d"
       ],
       "layout": "IPY_MODEL_8b27cf8aedfc4ef68197a5a02852c70d"
      }
     },
     "ecfb9c84cde34048a50ffed5a6a624cd": {
      "model_module": "@jupyter-widgets/base",
      "model_module_version": "1.2.0",
      "model_name": "LayoutModel",
      "state": {}
     },
     "eda9d24309304fe8bb5ad08fc886f068": {
      "model_module": "@jupyter-widgets/controls",
      "model_module_version": "1.5.0",
      "model_name": "IntProgressModel",
      "state": {
       "bar_style": "success",
       "description": "100%",
       "layout": "IPY_MODEL_09f841ccc2e14be3bec61cfc2fd3ea22",
       "max": 10000,
       "style": "IPY_MODEL_3ebef07e31e54cd885d330cb326a3d1a",
       "value": 10000
      }
     },
     "eecabb23e97643b2b258f396e317f7a8": {
      "model_module": "@jupyter-widgets/base",
      "model_module_version": "1.2.0",
      "model_name": "LayoutModel",
      "state": {}
     },
     "ef4887265c204a44b429592c72f99729": {
      "model_module": "@jupyter-widgets/base",
      "model_module_version": "1.2.0",
      "model_name": "LayoutModel",
      "state": {}
     },
     "ef8e1f72977843a2bb8d1a9df237a4a9": {
      "model_module": "@jupyter-widgets/base",
      "model_module_version": "1.2.0",
      "model_name": "LayoutModel",
      "state": {}
     },
     "f0160cbfdaee44a3954976c26a5ac182": {
      "model_module": "@jupyter-widgets/controls",
      "model_module_version": "1.5.0",
      "model_name": "ProgressStyleModel",
      "state": {
       "description_width": "initial"
      }
     },
     "f10cd0e132f448e6acbff850816437f9": {
      "model_module": "@jupyter-widgets/base",
      "model_module_version": "1.2.0",
      "model_name": "LayoutModel",
      "state": {}
     },
     "f1fe78267e2e4de0a34ed166b98b5009": {
      "model_module": "@jupyter-widgets/controls",
      "model_module_version": "1.5.0",
      "model_name": "HBoxModel",
      "state": {
       "children": [
        "IPY_MODEL_56d497a2ee79471490260017c24c3295",
        "IPY_MODEL_de358b269dc140f5824e27f11c0054a5"
       ],
       "layout": "IPY_MODEL_ad08d2d9d08e4fd1a1fbd803f58dc34a"
      }
     },
     "f30fe52320174cbdb98614c01e9bddaa": {
      "model_module": "@jupyter-widgets/base",
      "model_module_version": "1.2.0",
      "model_name": "LayoutModel",
      "state": {}
     },
     "f3582597e82d4096aecd53afd256a752": {
      "model_module": "@jupyter-widgets/base",
      "model_module_version": "1.2.0",
      "model_name": "LayoutModel",
      "state": {}
     },
     "f3a06a59b8e74e1799e1dfe7986da2d9": {
      "model_module": "@jupyter-widgets/controls",
      "model_module_version": "1.5.0",
      "model_name": "HTMLModel",
      "state": {
       "layout": "IPY_MODEL_3876232b9f5b4bc0836f6dede3640816",
       "style": "IPY_MODEL_a96a4e2ddf244350adf26c8020332f5f",
       "value": " 450/450 [01:31&lt;00:00,  4.98it/s]"
      }
     },
     "f3bb740d90e74363912d20fa32989d55": {
      "model_module": "@jupyter-widgets/controls",
      "model_module_version": "1.5.0",
      "model_name": "HBoxModel",
      "state": {
       "children": [
        "IPY_MODEL_f491d2f1d28340589f0d90ff771c3691",
        "IPY_MODEL_cc9bf29350634b869a1cca91df84ec2e"
       ],
       "layout": "IPY_MODEL_e8fdfa42a4544a2bae56e6151d9b4bb7"
      }
     },
     "f42727fe75ca4b8b992837278e05e608": {
      "model_module": "@jupyter-widgets/base",
      "model_module_version": "1.2.0",
      "model_name": "LayoutModel",
      "state": {}
     },
     "f491d2f1d28340589f0d90ff771c3691": {
      "model_module": "@jupyter-widgets/controls",
      "model_module_version": "1.5.0",
      "model_name": "IntProgressModel",
      "state": {
       "bar_style": "danger",
       "description": "  0%",
       "layout": "IPY_MODEL_4981fd9325454cc7a70a19876103f739",
       "max": 450,
       "style": "IPY_MODEL_0d8e6f9d15a14505a6eada9770249a3f"
      }
     },
     "f511e911a467489cbabcd979f75fc4aa": {
      "model_module": "@jupyter-widgets/controls",
      "model_module_version": "1.5.0",
      "model_name": "DescriptionStyleModel",
      "state": {
       "description_width": ""
      }
     },
     "f5ae9d2244e7491189db21a5e8b1ab6f": {
      "model_module": "@jupyter-widgets/base",
      "model_module_version": "1.2.0",
      "model_name": "LayoutModel",
      "state": {}
     },
     "f5eac3148e0948f8987d1613e5a38e57": {
      "model_module": "@jupyter-widgets/controls",
      "model_module_version": "1.5.0",
      "model_name": "DescriptionStyleModel",
      "state": {
       "description_width": ""
      }
     },
     "f6bc705782ec448ea86f9022f7f0ff15": {
      "model_module": "@jupyter-widgets/controls",
      "model_module_version": "1.5.0",
      "model_name": "HBoxModel",
      "state": {
       "children": [
        "IPY_MODEL_5157d399fcfa47f782e8a80604e960ee",
        "IPY_MODEL_e428af9b809446348ef05bd1b6ba21f3"
       ],
       "layout": "IPY_MODEL_990eff4fd4d049a8a21f8ccf12bd0e1e"
      }
     },
     "f6fc6ee93cf940c4877efad3a97ae268": {
      "model_module": "@jupyter-widgets/controls",
      "model_module_version": "1.5.0",
      "model_name": "HBoxModel",
      "state": {
       "children": [
        "IPY_MODEL_dfd74d20c5bf45f9aab4b6f80dac2550",
        "IPY_MODEL_513a4fb0761c4470b590da66ffa9914d"
       ],
       "layout": "IPY_MODEL_e1610ee1170e4b7aaa25d32700c45628"
      }
     },
     "f7038d9364074cf6a303c42a1ded89d8": {
      "model_module": "@jupyter-widgets/controls",
      "model_module_version": "1.5.0",
      "model_name": "ProgressStyleModel",
      "state": {
       "description_width": "initial"
      }
     },
     "f7825a26d28f44d48ed8eb174ad28846": {
      "model_module": "@jupyter-widgets/base",
      "model_module_version": "1.2.0",
      "model_name": "LayoutModel",
      "state": {}
     },
     "f7ba24b0e34f4bc9ae657c088e1213d4": {
      "model_module": "@jupyter-widgets/controls",
      "model_module_version": "1.5.0",
      "model_name": "DescriptionStyleModel",
      "state": {
       "description_width": ""
      }
     },
     "f7ded337070743108b9174792d4f86b0": {
      "model_module": "@jupyter-widgets/base",
      "model_module_version": "1.2.0",
      "model_name": "LayoutModel",
      "state": {}
     },
     "f882b874e99142758dbad655eac182e3": {
      "model_module": "@jupyter-widgets/controls",
      "model_module_version": "1.5.0",
      "model_name": "ProgressStyleModel",
      "state": {
       "description_width": "initial"
      }
     },
     "f98048facc6d4cdd9f455eef3753cea6": {
      "model_module": "@jupyter-widgets/base",
      "model_module_version": "1.2.0",
      "model_name": "LayoutModel",
      "state": {}
     },
     "f9826982906d490fae366fa8e06318f0": {
      "model_module": "@jupyter-widgets/controls",
      "model_module_version": "1.5.0",
      "model_name": "DescriptionStyleModel",
      "state": {
       "description_width": ""
      }
     },
     "fab233093f534798a5c6771704dec9e4": {
      "model_module": "@jupyter-widgets/controls",
      "model_module_version": "1.5.0",
      "model_name": "IntProgressModel",
      "state": {
       "description": "100%",
       "layout": "IPY_MODEL_2064b9be860b4597987366b4bd4022b4",
       "max": 450,
       "style": "IPY_MODEL_2f74bc3c92b6481b89cecbc1eb5356ef",
       "value": 450
      }
     },
     "fc81c77224a54426a676f188a5b0db72": {
      "model_module": "@jupyter-widgets/controls",
      "model_module_version": "1.5.0",
      "model_name": "IntProgressModel",
      "state": {
       "bar_style": "danger",
       "description": "  0%",
       "layout": "IPY_MODEL_0793a932294e40089fd95587bc4e2131",
       "max": 10,
       "style": "IPY_MODEL_f7038d9364074cf6a303c42a1ded89d8"
      }
     },
     "fe4916b0f52441278a8809435a63b556": {
      "model_module": "@jupyter-widgets/controls",
      "model_module_version": "1.5.0",
      "model_name": "ProgressStyleModel",
      "state": {
       "description_width": "initial"
      }
     },
     "feb1d800ebff41238c3f5ddff48c346c": {
      "model_module": "@jupyter-widgets/base",
      "model_module_version": "1.2.0",
      "model_name": "LayoutModel",
      "state": {}
     },
     "fecc34ae890849a99af222577077417c": {
      "model_module": "@jupyter-widgets/base",
      "model_module_version": "1.2.0",
      "model_name": "LayoutModel",
      "state": {}
     }
    },
    "version_major": 2,
    "version_minor": 0
   }
  }
 },
 "nbformat": 4,
 "nbformat_minor": 2
}
